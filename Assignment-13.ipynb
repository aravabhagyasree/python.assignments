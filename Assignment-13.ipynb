{
 "cells": [
  {
   "cell_type": "code",
   "execution_count": 22,
   "id": "72e8380f-95d8-42a7-b84d-dc89605c1cc5",
   "metadata": {},
   "outputs": [
    {
     "data": {
      "text/plain": [
       "2"
      ]
     },
     "execution_count": 22,
     "metadata": {},
     "output_type": "execute_result"
    }
   ],
   "source": [
    "str1='hello world'\n",
    "str1.count('o')"
   ]
  },
  {
   "cell_type": "code",
   "execution_count": 26,
   "id": "e0e28748-09cc-40eb-8d7b-659b4557b989",
   "metadata": {},
   "outputs": [
    {
     "data": {
      "text/plain": [
       "1"
      ]
     },
     "execution_count": 26,
     "metadata": {},
     "output_type": "execute_result"
    }
   ],
   "source": [
    "str1='hi how are you doing ?'\n",
    "str1.count('?')"
   ]
  },
  {
   "cell_type": "code",
   "execution_count": 44,
   "id": "9ed13ebd-b382-4436-90f4-9ef2d3592dc4",
   "metadata": {},
   "outputs": [
    {
     "data": {
      "text/plain": [
       "0"
      ]
     },
     "execution_count": 44,
     "metadata": {},
     "output_type": "execute_result"
    }
   ],
   "source": [
    "str2='ahahahahahahahahahahahah'\n",
    "str2.count('aba')"
   ]
  },
  {
   "cell_type": "code",
   "execution_count": 46,
   "id": "623cb77c-6f34-46f9-90d4-af7cb5615d56",
   "metadata": {},
   "outputs": [
    {
     "data": {
      "text/plain": [
       "'AhAhAhAhAhAhAhAhAhAhAhAh'"
      ]
     },
     "execution_count": 46,
     "metadata": {},
     "output_type": "execute_result"
    }
   ],
   "source": [
    "str2.replace('a','A')"
   ]
  },
  {
   "cell_type": "code",
   "execution_count": 48,
   "id": "057438dd-b4dd-4f60-9565-e25f18475755",
   "metadata": {},
   "outputs": [
    {
     "data": {
      "text/plain": [
       "'aHaHaHaHaHaHaHaHaHaHaHaH'"
      ]
     },
     "execution_count": 48,
     "metadata": {},
     "output_type": "execute_result"
    }
   ],
   "source": [
    "str2.replace('h','H')"
   ]
  },
  {
   "cell_type": "code",
   "execution_count": 54,
   "id": "195f5637-3fc7-46a4-801f-e3cfe0a51a89",
   "metadata": {},
   "outputs": [
    {
     "data": {
      "text/plain": [
       "0"
      ]
     },
     "execution_count": 54,
     "metadata": {},
     "output_type": "execute_result"
    }
   ],
   "source": [
    "str2.find('a')"
   ]
  },
  {
   "cell_type": "code",
   "execution_count": 64,
   "id": "19c271b0-171c-4531-9659-926485158adf",
   "metadata": {},
   "outputs": [
    {
     "data": {
      "text/plain": [
       "-1"
      ]
     },
     "execution_count": 64,
     "metadata": {},
     "output_type": "execute_result"
    }
   ],
   "source": [
    "str2.find('e')"
   ]
  },
  {
   "cell_type": "code",
   "execution_count": 60,
   "id": "4d39ef55-b00a-494c-b819-7c2e3c3f41e1",
   "metadata": {},
   "outputs": [
    {
     "data": {
      "text/plain": [
       "1"
      ]
     },
     "execution_count": 60,
     "metadata": {},
     "output_type": "execute_result"
    }
   ],
   "source": [
    "str2.index('h')"
   ]
  },
  {
   "cell_type": "code",
   "execution_count": 62,
   "id": "d569eee3-9e43-4250-a434-091ed766728d",
   "metadata": {},
   "outputs": [
    {
     "ename": "ValueError",
     "evalue": "substring not found",
     "output_type": "error",
     "traceback": [
      "\u001b[0;31m---------------------------------------------------------------------------\u001b[0m",
      "\u001b[0;31mValueError\u001b[0m                                Traceback (most recent call last)",
      "Cell \u001b[0;32mIn[62], line 1\u001b[0m\n\u001b[0;32m----> 1\u001b[0m str2\u001b[38;5;241m.\u001b[39mindex(\u001b[38;5;124m'\u001b[39m\u001b[38;5;124me\u001b[39m\u001b[38;5;124m'\u001b[39m)\n",
      "\u001b[0;31mValueError\u001b[0m: substring not found"
     ]
    }
   ],
   "source": [
    "str2.index('e')"
   ]
  }
 ],
 "metadata": {
  "kernelspec": {
   "display_name": "Python [conda env:base] *",
   "language": "python",
   "name": "conda-base-py"
  },
  "language_info": {
   "codemirror_mode": {
    "name": "ipython",
    "version": 3
   },
   "file_extension": ".py",
   "mimetype": "text/x-python",
   "name": "python",
   "nbconvert_exporter": "python",
   "pygments_lexer": "ipython3",
   "version": "3.12.7"
  }
 },
 "nbformat": 4,
 "nbformat_minor": 5
}
