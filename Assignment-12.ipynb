{
 "cells": [
  {
   "cell_type": "markdown",
   "id": "b9aa9623-c55e-4a4e-a565-b25afd22c321",
   "metadata": {},
   "source": [
    "String.Methods Concept\n",
    "-\n",
    "- upper\n",
    "- lower\n",
    "- title\n",
    "- capitalize\n",
    "- casefold\n",
    "- center\n",
    "- rstrip\n",
    "- lstrip\n",
    "- strip\n",
    "- startswith\n",
    "- endswith"
   ]
  },
  {
   "cell_type": "code",
   "execution_count": 43,
   "id": "c6071ce8-9797-4c82-8f17-d43a4570153d",
   "metadata": {},
   "outputs": [
    {
     "data": {
      "text/plain": [
       "' I AM BHAGYASREE.I AM FROM NELLORE.CURRENTLY LIVING IN HYD. '"
      ]
     },
     "execution_count": 43,
     "metadata": {},
     "output_type": "execute_result"
    }
   ],
   "source": [
    "str4=' i am bhagyasree.i am from nellore.currently living in hyd. '\n",
    "str4.upper()"
   ]
  },
  {
   "cell_type": "code",
   "execution_count": 10,
   "id": "4c092e00-5aa2-4f48-9680-97f988d658bd",
   "metadata": {},
   "outputs": [
    {
     "data": {
      "text/plain": [
       "'I Am Bhagyasree.I Am From Nellore.Currently Living In Hyd.'"
      ]
     },
     "execution_count": 10,
     "metadata": {},
     "output_type": "execute_result"
    }
   ],
   "source": [
    "str4.title()"
   ]
  },
  {
   "cell_type": "code",
   "execution_count": 12,
   "id": "16f88a3e-5cbd-4eee-bece-2eb165d9737e",
   "metadata": {},
   "outputs": [
    {
     "data": {
      "text/plain": [
       "'I am bhagyasree.i am from nellore.currently living in hyd.'"
      ]
     },
     "execution_count": 12,
     "metadata": {},
     "output_type": "execute_result"
    }
   ],
   "source": [
    "str4.capitalize()"
   ]
  },
  {
   "cell_type": "code",
   "execution_count": 14,
   "id": "daf39462-878d-4ba9-ad4d-48b897eb7699",
   "metadata": {},
   "outputs": [
    {
     "data": {
      "text/plain": [
       "'i am bhagyasree.i am from nellore.currently living in hyd.'"
      ]
     },
     "execution_count": 14,
     "metadata": {},
     "output_type": "execute_result"
    }
   ],
   "source": [
    "str4.casefold()"
   ]
  },
  {
   "cell_type": "code",
   "execution_count": 22,
   "id": "fbb887d3-e9d9-4ca0-b030-638b8459e677",
   "metadata": {},
   "outputs": [
    {
     "data": {
      "text/plain": [
       "'                     i am bhagyasree.i am from nellore.currently living in hyd.                     '"
      ]
     },
     "execution_count": 22,
     "metadata": {},
     "output_type": "execute_result"
    }
   ],
   "source": [
    "str4.center(100)"
   ]
  },
  {
   "cell_type": "code",
   "execution_count": 27,
   "id": "02473ac4-284d-452b-9861-fd27a479e1af",
   "metadata": {},
   "outputs": [
    {
     "data": {
      "text/plain": [
       "'i am bhagyasree.i am from nellore.currently living in hyd'"
      ]
     },
     "execution_count": 27,
     "metadata": {},
     "output_type": "execute_result"
    }
   ],
   "source": [
    "str4.rstrip('.')"
   ]
  },
  {
   "cell_type": "code",
   "execution_count": 31,
   "id": "de16503a-05ef-46e9-9543-282c263f283c",
   "metadata": {},
   "outputs": [
    {
     "data": {
      "text/plain": [
       "' am bhagyasree.i am from nellore.currently living in hyd.'"
      ]
     },
     "execution_count": 31,
     "metadata": {},
     "output_type": "execute_result"
    }
   ],
   "source": [
    "str4.lstrip('i')"
   ]
  },
  {
   "cell_type": "code",
   "execution_count": 37,
   "id": "98e0266f-4fbe-4839-aac0-9cbc50c4ad98",
   "metadata": {},
   "outputs": [
    {
     "data": {
      "text/plain": [
       "'i am bhagyasree.i am from nellore.currently living in hyd.'"
      ]
     },
     "execution_count": 37,
     "metadata": {},
     "output_type": "execute_result"
    }
   ],
   "source": [
    "str4.strip()"
   ]
  },
  {
   "cell_type": "code",
   "execution_count": 63,
   "id": "953d46fe-58d1-481c-9b60-49679b9c7986",
   "metadata": {},
   "outputs": [
    {
     "data": {
      "text/plain": [
       "False"
      ]
     },
     "execution_count": 63,
     "metadata": {},
     "output_type": "execute_result"
    }
   ],
   "source": [
    "str5='hello how are you'\n",
    "str5.startswith('hello',6)"
   ]
  },
  {
   "cell_type": "code",
   "execution_count": 104,
   "id": "1f5994a4-a3da-45a8-92f9-cbc935aa13a8",
   "metadata": {},
   "outputs": [
    {
     "data": {
      "text/plain": [
       "True"
      ]
     },
     "execution_count": 104,
     "metadata": {},
     "output_type": "execute_result"
    }
   ],
   "source": [
    "sen= \"Machine learning is amazing!!\"\n",
    "sen.startswith(\"Machine\")"
   ]
  },
  {
   "cell_type": "code",
   "execution_count": 96,
   "id": "762641ea-d6f6-4943-ae44-1f27723d026b",
   "metadata": {},
   "outputs": [
    {
     "data": {
      "text/plain": [
       "True"
      ]
     },
     "execution_count": 96,
     "metadata": {},
     "output_type": "execute_result"
    }
   ],
   "source": [
    "sen.startswith(\"learning\", 8)"
   ]
  },
  {
   "cell_type": "code",
   "execution_count": 98,
   "id": "7a998698-e1cd-47bf-ae2f-714b22f76b3e",
   "metadata": {},
   "outputs": [
    {
     "data": {
      "text/plain": [
       "False"
      ]
     },
     "execution_count": 98,
     "metadata": {},
     "output_type": "execute_result"
    }
   ],
   "source": [
    "sen.startswith(\"is\", 10, 18)"
   ]
  },
  {
   "cell_type": "code",
   "execution_count": 92,
   "id": "c639248f-eb32-4f0f-a538-12b01b14f253",
   "metadata": {},
   "outputs": [
    {
     "data": {
      "text/plain": [
       "True"
      ]
     },
     "execution_count": 92,
     "metadata": {},
     "output_type": "execute_result"
    }
   ],
   "source": [
    "sen.startswith((\"AI\", \"Machine\", \"Deep\"))"
   ]
  },
  {
   "cell_type": "code",
   "execution_count": 100,
   "id": "25c2497e-76ca-4e62-bb42-669d57580ea2",
   "metadata": {},
   "outputs": [
    {
     "data": {
      "text/plain": [
       "False"
      ]
     },
     "execution_count": 100,
     "metadata": {},
     "output_type": "execute_result"
    }
   ],
   "source": [
    "sen.endswith('amazing')"
   ]
  },
  {
   "cell_type": "code",
   "execution_count": 116,
   "id": "8605ccda-4507-4779-bd74-fa87ee9304a8",
   "metadata": {},
   "outputs": [
    {
     "data": {
      "text/plain": [
       "True"
      ]
     },
     "execution_count": 116,
     "metadata": {},
     "output_type": "execute_result"
    }
   ],
   "source": [
    "sen.endswith('!')"
   ]
  },
  {
   "cell_type": "code",
   "execution_count": 118,
   "id": "fc1b1304-e372-4ee7-b4c0-3af2c6c72a34",
   "metadata": {},
   "outputs": [
    {
     "data": {
      "text/plain": [
       "True"
      ]
     },
     "execution_count": 118,
     "metadata": {},
     "output_type": "execute_result"
    }
   ],
   "source": [
    "sen.endswith('!!')"
   ]
  },
  {
   "cell_type": "code",
   "execution_count": 120,
   "id": "b7ebf209-9b71-41a4-8937-33723d512cda",
   "metadata": {},
   "outputs": [
    {
     "data": {
      "text/plain": [
       "False"
      ]
     },
     "execution_count": 120,
     "metadata": {},
     "output_type": "execute_result"
    }
   ],
   "source": [
    "sen.endswith('!!!')"
   ]
  }
 ],
 "metadata": {
  "kernelspec": {
   "display_name": "Python [conda env:base] *",
   "language": "python",
   "name": "conda-base-py"
  },
  "language_info": {
   "codemirror_mode": {
    "name": "ipython",
    "version": 3
   },
   "file_extension": ".py",
   "mimetype": "text/x-python",
   "name": "python",
   "nbconvert_exporter": "python",
   "pygments_lexer": "ipython3",
   "version": "3.12.7"
  }
 },
 "nbformat": 4,
 "nbformat_minor": 5
}
