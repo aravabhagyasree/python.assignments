{
 "cells": [
  {
   "cell_type": "markdown",
   "id": "31b5700e-8691-4d23-845b-44335c6c3f77",
   "metadata": {},
   "source": [
    "1.Take all numbers using random package randint method between 1 to 100\n",
    "2. use math.ceil for round off the values\n",
    "3. while printing multiple statemennts add time.sleep wherever required\n",
    "\n",
    "\n",
    "\n",
    "\n",
    "# 1)wap ask the user enter 3 random numbers n1,n2,n3 from ketboard\n",
    "# calculate average\n",
    "\n",
    "# 2)wap ask the user enter name \n",
    "# random age  and  city using input\n",
    "# print my name is python im 10 years old and came from hyd\n",
    "\n",
    "# 3)wap ask the user to enter random radidus of a circle calculate area of the circle\n",
    "# var: radidus  var: pi=3.14\n",
    "# formuale: pi*radius*radius\n",
    "# print the answers using f string and format\n",
    "\n",
    "# 4)wap ask the user enter random breadth and height of a right angle triangle\n",
    "# calculate the area\n",
    "# var1: bredath  var2: height\n",
    "# formuale : 0.5*breadth*heigh\n",
    "\n",
    "# 5)wap ask the user the random bill amount and tip amount\n",
    "#  calculate total bill\n",
    "#  var1: bill amount var2: tip amount\n",
    "#  formuale\n",
    "\n",
    "# 6)wap ask the user the random bill amount and tip percentage\n",
    "#    take tip percentage as 10\n",
    "#   calculate total bill= bill amount+ bill amount*tip per/100\n",
    "#   var1: bill amount var2: tip amount\n",
    "#    formuale\n",
    "\n",
    "# 7)wap ask the random length and breadth of a rectangle calculate area\n",
    "#   var1: length  var2: breadth\n",
    "#   formulae: length * breadth\n",
    "\n",
    "# 8) wap ask the user take the random radius and calculate volume of sphere\n",
    "#    formulae: pi*r**3(pi*r*r*r)\n",
    "\n",
    "# 9) wap ask the user enter random  amount in dollars convert into rupees\n",
    "#    1$=85rs\n",
    "\n",
    "# 10)wap ask the user enter random weight in kgs convert into pounds\n",
    "#    1kg= 2.2pounds"
   ]
  },
  {
   "cell_type": "markdown",
   "id": "7b25b419-53e4-43f7-950c-9dba6a02ba55",
   "metadata": {},
   "source": [
    "Que 1\n",
    "-"
   ]
  },
  {
   "cell_type": "code",
   "execution_count": 25,
   "id": "d9076e07-b211-46fe-90b2-935b77562d8a",
   "metadata": {},
   "outputs": [
    {
     "name": "stdout",
     "output_type": "stream",
     "text": [
      "61 92 3\n",
      "52.0\n"
     ]
    }
   ],
   "source": [
    "n1=61\n",
    "n2=92\n",
    "n3=3\n",
    "add=(n1+n2+n3)/3\n",
    "print(n1,n2,n3)\n",
    "print(add)"
   ]
  },
  {
   "cell_type": "code",
   "execution_count": 41,
   "id": "647a2424-17d3-4b9c-a758-b5e6de4d3b8f",
   "metadata": {},
   "outputs": [
    {
     "name": "stdin",
     "output_type": "stream",
     "text": [
      "enter n1 num 61\n",
      "enter n2 num 92\n",
      "enter n3 num 3\n"
     ]
    },
    {
     "name": "stdout",
     "output_type": "stream",
     "text": [
      "61 92 3\n"
     ]
    },
    {
     "data": {
      "text/plain": [
       "52.0"
      ]
     },
     "execution_count": 41,
     "metadata": {},
     "output_type": "execute_result"
    }
   ],
   "source": [
    "n1=eval(input(\"enter n1 num\"))\n",
    "n2=eval(input(\"enter n2 num\"))\n",
    "n3=eval(input(\"enter n3 num\"))\n",
    "print(n1,n2,n3)\n",
    "avg=(n1+n2+n3)/3\n",
    "avg"
   ]
  },
  {
   "cell_type": "code",
   "execution_count": 209,
   "id": "a348ff98-6ec2-41da-ba7a-ceab65798872",
   "metadata": {},
   "outputs": [
    {
     "name": "stdout",
     "output_type": "stream",
     "text": [
      "60 93 2\n"
     ]
    },
    {
     "data": {
      "text/plain": [
       "52"
      ]
     },
     "execution_count": 209,
     "metadata": {},
     "output_type": "execute_result"
    }
   ],
   "source": [
    "import random\n",
    "n1=random.randint(60,61)\n",
    "n2=random.randint(92,93)\n",
    "n3=random.randint(2,3)\n",
    "avg=math.ceil((n1+n2+n3)/3)\n",
    "print(n1,n2,n3)\n",
    "time.sleep(1)\n",
    "avg"
   ]
  },
  {
   "cell_type": "markdown",
   "id": "5b65b76d-8e5a-4d12-9f45-7c513b5d0b10",
   "metadata": {},
   "source": [
    "Que 2\n",
    "-"
   ]
  },
  {
   "cell_type": "code",
   "execution_count": 54,
   "id": "04414e6c-a93b-49bd-81e5-7cc96d4a4dc7",
   "metadata": {},
   "outputs": [
    {
     "name": "stdout",
     "output_type": "stream",
     "text": [
      "my name is\n",
      "python\n",
      "i am\n",
      "10\n",
      "years old\n",
      "and came from\n",
      "hyd\n"
     ]
    }
   ],
   "source": [
    "import time\n",
    "name='python'\n",
    "age=10\n",
    "city='hyd'\n",
    "print('my name is')\n",
    "time.sleep(1)\n",
    "print(name)\n",
    "time.sleep(1)\n",
    "print('i am')\n",
    "time.sleep(1)\n",
    "print(age)\n",
    "time.sleep(1)\n",
    "print('years old')\n",
    "time.sleep(1)\n",
    "print('and came from')\n",
    "time.sleep(1)\n",
    "print(city)"
   ]
  },
  {
   "cell_type": "code",
   "execution_count": null,
   "id": "1d463c6d-bf9e-4993-b825-4a89c4049212",
   "metadata": {},
   "outputs": [],
   "source": [
    "name=input(\"enter name\")\n",
    "age=random.randit(9,10)\n",
    "city=input(\"enter city)\n"
   ]
  },
  {
   "cell_type": "markdown",
   "id": "a161ecdf-364b-4cf3-8c3d-6a719a777f02",
   "metadata": {},
   "source": [
    "Que 3\n",
    "-"
   ]
  },
  {
   "cell_type": "code",
   "execution_count": 60,
   "id": "b894c6bf-fb10-4df5-89b7-d29a2c812763",
   "metadata": {},
   "outputs": [
    {
     "name": "stdout",
     "output_type": "stream",
     "text": [
      "12.56\n"
     ]
    }
   ],
   "source": [
    "radius=2\n",
    "pi=3.14\n",
    "area=pi*radius*radius\n",
    "print(area)"
   ]
  },
  {
   "cell_type": "code",
   "execution_count": 76,
   "id": "78359a8b-a892-42cf-bf9a-99390f4ba080",
   "metadata": {},
   "outputs": [
    {
     "name": "stdin",
     "output_type": "stream",
     "text": [
      " 2\n"
     ]
    },
    {
     "name": "stdout",
     "output_type": "stream",
     "text": [
      "12.56\n"
     ]
    }
   ],
   "source": [
    "radius=eval(input())\n",
    "pi=3.14\n",
    "area=float(pi*radius*radius)\n",
    "print(area)"
   ]
  },
  {
   "cell_type": "code",
   "execution_count": 80,
   "id": "e9670efd-7d64-4851-85b7-493d9268fdae",
   "metadata": {},
   "outputs": [
    {
     "name": "stdout",
     "output_type": "stream",
     "text": [
      "2\n",
      "13\n"
     ]
    }
   ],
   "source": [
    "import random\n",
    "import math\n",
    "radius=random.randint(1,2)\n",
    "pi=3.14\n",
    "area=math.ceil(pi*radius*radius)\n",
    "print(radius)\n",
    "print(area)"
   ]
  },
  {
   "cell_type": "markdown",
   "id": "4f3b8d67-84c0-448c-b0f4-0308e7b6565f",
   "metadata": {},
   "source": [
    "Que 4\n",
    "-"
   ]
  },
  {
   "cell_type": "code",
   "execution_count": 84,
   "id": "06185f0d-1eeb-404b-bdd1-736729977c9b",
   "metadata": {},
   "outputs": [
    {
     "name": "stdout",
     "output_type": "stream",
     "text": [
      "13\n"
     ]
    }
   ],
   "source": [
    "breath=2\n",
    "height=2\n",
    "area_r=0.5*breath*height\n",
    "print(area)"
   ]
  },
  {
   "cell_type": "code",
   "execution_count": 90,
   "id": "b1b9b402-9396-4632-90d3-8de08af58be6",
   "metadata": {},
   "outputs": [
    {
     "name": "stdin",
     "output_type": "stream",
     "text": [
      " 2\n",
      " 2\n"
     ]
    },
    {
     "name": "stdout",
     "output_type": "stream",
     "text": [
      "13\n"
     ]
    }
   ],
   "source": [
    "breath=eval(input())\n",
    "height=eval(input())\n",
    "area_r=float(0.5*breath*height)\n",
    "print(area)"
   ]
  },
  {
   "cell_type": "code",
   "execution_count": 96,
   "id": "732338a9-c99c-4be8-b382-efd125dc02a4",
   "metadata": {},
   "outputs": [
    {
     "name": "stdout",
     "output_type": "stream",
     "text": [
      "2\n",
      "2\n",
      "13\n"
     ]
    }
   ],
   "source": [
    "breath=random.randint(1,2)\n",
    "height=random.randint(1,2)\n",
    "area_r=0.5*breath*height\n",
    "print(breath)\n",
    "time.sleep(1)\n",
    "print(height)\n",
    "time.sleep(1)\n",
    "print(area)"
   ]
  },
  {
   "cell_type": "markdown",
   "id": "d4a6486a-04db-4838-a206-c53b88c14caf",
   "metadata": {},
   "source": [
    "Que 5\n",
    "-"
   ]
  },
  {
   "cell_type": "code",
   "execution_count": 101,
   "id": "2a173a39-125f-405f-871b-06756a855826",
   "metadata": {},
   "outputs": [
    {
     "data": {
      "text/plain": [
       "220"
      ]
     },
     "execution_count": 101,
     "metadata": {},
     "output_type": "execute_result"
    }
   ],
   "source": [
    "ba=200\n",
    "ta=20\n",
    "tola=ba+ta\n",
    "tola"
   ]
  },
  {
   "cell_type": "code",
   "execution_count": 107,
   "id": "7be8fa55-8568-4d88-8446-1a73d23649c9",
   "metadata": {},
   "outputs": [
    {
     "name": "stdin",
     "output_type": "stream",
     "text": [
      " 200\n",
      " 20\n"
     ]
    },
    {
     "data": {
      "text/plain": [
       "220"
      ]
     },
     "execution_count": 107,
     "metadata": {},
     "output_type": "execute_result"
    }
   ],
   "source": [
    "ba=eval(input())\n",
    "ta=eval(input())\n",
    "tola=(ba+ta)\n",
    "tola"
   ]
  },
  {
   "cell_type": "code",
   "execution_count": 116,
   "id": "f83867ae-7c00-469c-8510-b2b86de0154a",
   "metadata": {},
   "outputs": [
    {
     "name": "stdout",
     "output_type": "stream",
     "text": [
      "200\n",
      "20\n"
     ]
    },
    {
     "data": {
      "text/plain": [
       "220"
      ]
     },
     "execution_count": 116,
     "metadata": {},
     "output_type": "execute_result"
    }
   ],
   "source": [
    "ba=random.randint(199,200)\n",
    "ta=random.randint(19,20)\n",
    "tola=ba+ta\n",
    "print(ba)\n",
    "time.sleep(1)\n",
    "print(ta)\n",
    "time.sleep(1)\n",
    "tola"
   ]
  },
  {
   "cell_type": "markdown",
   "id": "2ee3cc41-db96-40a1-8a13-3a7d28094ee6",
   "metadata": {},
   "source": [
    "Que 6\n",
    "-"
   ]
  },
  {
   "cell_type": "code",
   "execution_count": null,
   "id": "2a218885-7271-4d69-817b-3592a2f71974",
   "metadata": {},
   "outputs": [],
   "source": [
    "# 6)wap ask the user the random bill amount and tip percentage\n",
    "#    take tip percentage as 10\n",
    "#   calculate total bill= bill amount+ bill amount*tip per/100\n",
    "#   var1: bill amount var2: tip amount\n",
    "#    formuale"
   ]
  },
  {
   "cell_type": "code",
   "execution_count": 124,
   "id": "4a2d56ef-85b5-4ef3-8289-54833ea190e3",
   "metadata": {},
   "outputs": [
    {
     "data": {
      "text/plain": [
       "110.0"
      ]
     },
     "execution_count": 124,
     "metadata": {},
     "output_type": "execute_result"
    }
   ],
   "source": [
    "billa=100\n",
    "tipper=10\n",
    "total_bill=billa+billa*10/100\n",
    "total_bill"
   ]
  },
  {
   "cell_type": "code",
   "execution_count": 128,
   "id": "9b4008fc-2f07-4c36-91ec-116105c072ff",
   "metadata": {},
   "outputs": [
    {
     "name": "stdin",
     "output_type": "stream",
     "text": [
      " 100\n"
     ]
    },
    {
     "data": {
      "text/plain": [
       "110.0"
      ]
     },
     "execution_count": 128,
     "metadata": {},
     "output_type": "execute_result"
    }
   ],
   "source": [
    "billa=eval(input())\n",
    "tipper=10\n",
    "total_bill=billa+billa*10/100\n",
    "total_bill"
   ]
  },
  {
   "cell_type": "code",
   "execution_count": 130,
   "id": "8f30b0f5-f2bc-49c2-afa8-fd4cd1ebf066",
   "metadata": {},
   "outputs": [
    {
     "name": "stdout",
     "output_type": "stream",
     "text": [
      "100\n"
     ]
    },
    {
     "data": {
      "text/plain": [
       "110.0"
      ]
     },
     "execution_count": 130,
     "metadata": {},
     "output_type": "execute_result"
    }
   ],
   "source": [
    "billa=random.randint(99,100)\n",
    "tipper=10\n",
    "total_bill=billa+billa*10/100\n",
    "print(billa)\n",
    "total_bill"
   ]
  },
  {
   "cell_type": "markdown",
   "id": "2d942d0c-a1f4-4a13-a560-84a1e1b90cf2",
   "metadata": {},
   "source": [
    "Que 7\n",
    "-"
   ]
  },
  {
   "cell_type": "code",
   "execution_count": null,
   "id": "f53ee16c-5a7f-4a76-92e6-1bbb6a54afa2",
   "metadata": {},
   "outputs": [],
   "source": [
    "# 7)wap ask the random length and breadth of a rectangle calculate area\n",
    "#   var1: length  var2: breadth\n",
    "#   formulae: length * breadth"
   ]
  },
  {
   "cell_type": "code",
   "execution_count": 135,
   "id": "524b04ea-cbbe-4cb8-a840-15f17b1c426f",
   "metadata": {},
   "outputs": [
    {
     "data": {
      "text/plain": [
       "50"
      ]
     },
     "execution_count": 135,
     "metadata": {},
     "output_type": "execute_result"
    }
   ],
   "source": [
    "len=10\n",
    "bre=5\n",
    "area=len*bre\n",
    "area"
   ]
  },
  {
   "cell_type": "code",
   "execution_count": 137,
   "id": "9cb635ff-2657-4c6b-9d9b-236d4e35fd4c",
   "metadata": {},
   "outputs": [
    {
     "name": "stdin",
     "output_type": "stream",
     "text": [
      " 10\n",
      " 5\n"
     ]
    },
    {
     "data": {
      "text/plain": [
       "50"
      ]
     },
     "execution_count": 137,
     "metadata": {},
     "output_type": "execute_result"
    }
   ],
   "source": [
    "len=eval(input())\n",
    "bre=eval(input())\n",
    "area=len*bre\n",
    "area"
   ]
  },
  {
   "cell_type": "code",
   "execution_count": 141,
   "id": "6e6eb085-bd6e-4653-8556-63a016ad6ad8",
   "metadata": {},
   "outputs": [
    {
     "name": "stdout",
     "output_type": "stream",
     "text": [
      "10\n",
      "5\n"
     ]
    },
    {
     "data": {
      "text/plain": [
       "50"
      ]
     },
     "execution_count": 141,
     "metadata": {},
     "output_type": "execute_result"
    }
   ],
   "source": [
    "len=random.randint(9,10)\n",
    "bre=random.randint(4,5)\n",
    "area=len*bre\n",
    "print(len)\n",
    "time.sleep(1)\n",
    "print(bre)\n",
    "time.sleep(1)\n",
    "area"
   ]
  },
  {
   "cell_type": "markdown",
   "id": "bc79546d-cf94-4f11-8482-86cec62e9827",
   "metadata": {},
   "source": [
    "Que 8\n",
    "-"
   ]
  },
  {
   "cell_type": "code",
   "execution_count": null,
   "id": "933c8bf9-aaf0-43ef-a364-1768f784b337",
   "metadata": {},
   "outputs": [],
   "source": [
    "# 8) wap ask the user take the random radius and calculate volume of sphere\n",
    "#    formulae: pi*r**3(pi*r*r*r)"
   ]
  },
  {
   "cell_type": "code",
   "execution_count": 150,
   "id": "aa5661ea-51b7-401d-b6d3-48dba5665f4d",
   "metadata": {},
   "outputs": [
    {
     "data": {
      "text/plain": [
       "84.78"
      ]
     },
     "execution_count": 150,
     "metadata": {},
     "output_type": "execute_result"
    }
   ],
   "source": [
    "radius=3\n",
    "pi=3.14\n",
    "volume=pi*radius**3\n",
    "volume"
   ]
  },
  {
   "cell_type": "code",
   "execution_count": 152,
   "id": "4cf22d50-a2b8-4acf-ba76-047d3f3d2c9d",
   "metadata": {},
   "outputs": [
    {
     "name": "stdin",
     "output_type": "stream",
     "text": [
      " 3\n"
     ]
    },
    {
     "data": {
      "text/plain": [
       "84.78"
      ]
     },
     "execution_count": 152,
     "metadata": {},
     "output_type": "execute_result"
    }
   ],
   "source": [
    "radius=eval(input())\n",
    "pi=3.14\n",
    "volume=pi*radius**3\n",
    "volume"
   ]
  },
  {
   "cell_type": "code",
   "execution_count": 158,
   "id": "3b2ae922-ecad-405d-9a59-de378a6bdd12",
   "metadata": {},
   "outputs": [
    {
     "name": "stdout",
     "output_type": "stream",
     "text": [
      "3\n"
     ]
    },
    {
     "data": {
      "text/plain": [
       "85"
      ]
     },
     "execution_count": 158,
     "metadata": {},
     "output_type": "execute_result"
    }
   ],
   "source": [
    "import math\n",
    "radius=random.randint(3,4)\n",
    "pi=3.14\n",
    "volume=math.ceil(pi*radius**3)\n",
    "print(radius)\n",
    "time.sleep(1)\n",
    "volume"
   ]
  },
  {
   "cell_type": "markdown",
   "id": "c7af1307-3dde-43e3-80a6-6d49f7149f6c",
   "metadata": {},
   "source": [
    "Que 9\n",
    "-"
   ]
  },
  {
   "cell_type": "code",
   "execution_count": null,
   "id": "764306fb-ae83-43a6-afd0-fe0b34e61347",
   "metadata": {},
   "outputs": [],
   "source": [
    "# 9) wap ask the user enter random  amount in dollars convert into rupees\n",
    "#    1$=85rs"
   ]
  },
  {
   "cell_type": "code",
   "execution_count": 169,
   "id": "8a92722a-f920-40f2-b72d-f7e0e5a31d73",
   "metadata": {},
   "outputs": [
    {
     "data": {
      "text/plain": [
       "425"
      ]
     },
     "execution_count": 169,
     "metadata": {},
     "output_type": "execute_result"
    }
   ],
   "source": [
    "rs=85\n",
    "dol=5\n",
    "convert=rs*dol\n",
    "convert"
   ]
  },
  {
   "cell_type": "code",
   "execution_count": 171,
   "id": "019679ec-9769-4486-b69e-a37ef81d1e6b",
   "metadata": {},
   "outputs": [
    {
     "name": "stdin",
     "output_type": "stream",
     "text": [
      " 5\n"
     ]
    },
    {
     "data": {
      "text/plain": [
       "425"
      ]
     },
     "execution_count": 171,
     "metadata": {},
     "output_type": "execute_result"
    }
   ],
   "source": [
    "rs=85\n",
    "dol=eval(input())\n",
    "convert=rs*dol\n",
    "convert"
   ]
  },
  {
   "cell_type": "code",
   "execution_count": 183,
   "id": "e52408d3-1f34-4232-bdf2-4f53d8fa2452",
   "metadata": {},
   "outputs": [
    {
     "name": "stdout",
     "output_type": "stream",
     "text": [
      "5\n"
     ]
    },
    {
     "data": {
      "text/plain": [
       "425"
      ]
     },
     "execution_count": 183,
     "metadata": {},
     "output_type": "execute_result"
    }
   ],
   "source": [
    "rs=85\n",
    "dol=random.randint(4,5)\n",
    "convert=rs*dol\n",
    "print(dol)\n",
    "time.sleep(1)\n",
    "convert"
   ]
  },
  {
   "cell_type": "markdown",
   "id": "3a2dc4a0-254a-4439-84dc-2e61e7317a16",
   "metadata": {},
   "source": [
    "Que 10\n",
    "-"
   ]
  },
  {
   "cell_type": "code",
   "execution_count": null,
   "id": "9f1aae94-afeb-46b8-88a7-7fed03ac6a80",
   "metadata": {},
   "outputs": [],
   "source": [
    "# 10)wap ask the user enter random weight in kgs convert into pounds\n",
    "#    1kg= 2.2pounds"
   ]
  },
  {
   "cell_type": "code",
   "execution_count": 192,
   "id": "6305895a-fa83-4d27-a3dc-69e51dfd13c0",
   "metadata": {},
   "outputs": [
    {
     "data": {
      "text/plain": [
       "13.200000000000001"
      ]
     },
     "execution_count": 192,
     "metadata": {},
     "output_type": "execute_result"
    }
   ],
   "source": [
    "kg=6\n",
    "po=2.2\n",
    "wei=kg*po\n",
    "wei"
   ]
  },
  {
   "cell_type": "code",
   "execution_count": 194,
   "id": "0a9ac8e3-4862-4d4c-8acd-0ef0fd5d3836",
   "metadata": {},
   "outputs": [
    {
     "name": "stdin",
     "output_type": "stream",
     "text": [
      " 6\n"
     ]
    },
    {
     "data": {
      "text/plain": [
       "13.200000000000001"
      ]
     },
     "execution_count": 194,
     "metadata": {},
     "output_type": "execute_result"
    }
   ],
   "source": [
    "kg=eval(input())\n",
    "po=2.2\n",
    "wei=kg*po\n",
    "wei"
   ]
  },
  {
   "cell_type": "code",
   "execution_count": 198,
   "id": "7e8ed0e9-0128-4020-a93e-07196d06184a",
   "metadata": {},
   "outputs": [
    {
     "name": "stdout",
     "output_type": "stream",
     "text": [
      "6\n"
     ]
    },
    {
     "data": {
      "text/plain": [
       "14"
      ]
     },
     "execution_count": 198,
     "metadata": {},
     "output_type": "execute_result"
    }
   ],
   "source": [
    "kg=random.randint(5,6)\n",
    "po=2.2\n",
    "wei=math.ceil(kg*po)\n",
    "print(kg)\n",
    "time.sleep(1)\n",
    "wei"
   ]
  },
  {
   "cell_type": "code",
   "execution_count": null,
   "id": "0d50ad0a-e603-433b-b8fd-68083717322b",
   "metadata": {},
   "outputs": [],
   "source": []
  },
  {
   "cell_type": "code",
   "execution_count": null,
   "id": "3160f192-2009-4402-b40b-d95046fd033a",
   "metadata": {},
   "outputs": [],
   "source": []
  },
  {
   "cell_type": "code",
   "execution_count": null,
   "id": "ff280726-b9a3-4578-9b64-056abdea2fe0",
   "metadata": {},
   "outputs": [],
   "source": []
  },
  {
   "cell_type": "code",
   "execution_count": null,
   "id": "ad414bcf-b6fb-4083-98fb-cabd9f326f7c",
   "metadata": {},
   "outputs": [],
   "source": []
  },
  {
   "cell_type": "code",
   "execution_count": null,
   "id": "bda09e27-4880-4469-a62d-9df29e719724",
   "metadata": {},
   "outputs": [],
   "source": []
  },
  {
   "cell_type": "code",
   "execution_count": null,
   "id": "b630353e-84d6-4693-81c4-fbf737414579",
   "metadata": {},
   "outputs": [],
   "source": []
  },
  {
   "cell_type": "code",
   "execution_count": null,
   "id": "d2ad104f-d4f1-46ee-8281-d4b715b6c65b",
   "metadata": {},
   "outputs": [],
   "source": []
  }
 ],
 "metadata": {
  "kernelspec": {
   "display_name": "Python [conda env:base] *",
   "language": "python",
   "name": "conda-base-py"
  },
  "language_info": {
   "codemirror_mode": {
    "name": "ipython",
    "version": 3
   },
   "file_extension": ".py",
   "mimetype": "text/x-python",
   "name": "python",
   "nbconvert_exporter": "python",
   "pygments_lexer": "ipython3",
   "version": "3.12.7"
  }
 },
 "nbformat": 4,
 "nbformat_minor": 5
}
