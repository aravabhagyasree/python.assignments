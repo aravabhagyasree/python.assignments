{
 "cells": [
  {
   "cell_type": "code",
   "execution_count": 4,
   "id": "50799be3-7848-4a35-a43a-e7f1235afa02",
   "metadata": {},
   "outputs": [
    {
     "name": "stdin",
     "output_type": "stream",
     "text": [
      "enter a n1 8\n",
      "enter a n2 8\n",
      "enter a n3 8\n"
     ]
    },
    {
     "name": "stdout",
     "output_type": "stream",
     "text": [
      "8.0\n"
     ]
    }
   ],
   "source": [
    "def AVG():\n",
    "    try:\n",
    "        n1=eval(input(\"enter a n1\"))\n",
    "        n2=eval(input(\"enter a n2\"))\n",
    "        n3=eval(input(\"enter a n3\"))\n",
    "        avg=(n1+n2+n3)/3\n",
    "        avg1=round(avg,2)\n",
    "        print(avg1)\n",
    "    except Exception as e:\n",
    "        print(e)\n",
    "AVG()"
   ]
  },
  {
   "cell_type": "code",
   "execution_count": 6,
   "id": "304d686d-c613-46f7-8c9a-479a98aadc91",
   "metadata": {},
   "outputs": [
    {
     "name": "stdin",
     "output_type": "stream",
     "text": [
      "enter the city name 78\n",
      "enter name 78\n",
      "enter age 89\n"
     ]
    },
    {
     "name": "stdout",
     "output_type": "stream",
     "text": [
      "my name is 78 iam 89 years old and came from 78\n"
     ]
    }
   ],
   "source": [
    "def CITY1():\n",
    "    try:\n",
    "        city=input(\"enter the city name\")\n",
    "        name=input(\"enter name\")\n",
    "        age=eval(input(\"enter age\"))\n",
    "        print(f\"my name is {name} iam {age} years old and came from {city}\")\n",
    "    except Exception as e:\n",
    "        print(e)\n",
    "    \n",
    "CITY1()"
   ]
  },
  {
   "cell_type": "code",
   "execution_count": 11,
   "id": "84efd388-0e68-4c61-8e05-5a0c30445c7c",
   "metadata": {},
   "outputs": [
    {
     "name": "stdin",
     "output_type": "stream",
     "text": [
      "enter the radius 6\n"
     ]
    },
    {
     "name": "stdout",
     "output_type": "stream",
     "text": [
      "113.03999999999999\n"
     ]
    }
   ],
   "source": [
    "def RAD():\n",
    "    try:\n",
    "        rad=eval(input(\"enter the radius\"))\n",
    "        pi=3.14\n",
    "        radius=pi*rad*rad\n",
    "        print(radius)\n",
    "    except Exception as e:\n",
    "        print(e)\n",
    "RAD()"
   ]
  },
  {
   "cell_type": "code",
   "execution_count": 13,
   "id": "61af29af-5886-47d6-a1f3-872522aab4ba",
   "metadata": {},
   "outputs": [
    {
     "name": "stdin",
     "output_type": "stream",
     "text": [
      "enter breadth 76\n",
      "enter height 44\n"
     ]
    },
    {
     "name": "stdout",
     "output_type": "stream",
     "text": [
      "1672.0\n"
     ]
    }
   ],
   "source": [
    "def AREA():\n",
    "    try:\n",
    "        bre=eval(input(\"enter breadth\"))\n",
    "        hei=eval(input(\"enter height\"))\n",
    "        area=0.5*bre*hei\n",
    "        print(area)\n",
    "    except Exception as e:\n",
    "        print(e)\n",
    "\n",
    "AREA()"
   ]
  },
  {
   "cell_type": "code",
   "execution_count": 15,
   "id": "df014f48-3ce8-4e45-89b9-79ede38c12cb",
   "metadata": {},
   "outputs": [
    {
     "name": "stdin",
     "output_type": "stream",
     "text": [
      "enter bill amount 56\n",
      "enter tip amount 45\n"
     ]
    },
    {
     "name": "stdout",
     "output_type": "stream",
     "text": [
      "101\n"
     ]
    }
   ],
   "source": [
    "def BILL():\n",
    "    try:\n",
    "        billa=eval(input(\"enter bill amount\"))\n",
    "        tipa=eval(input(\"enter tip amount\"))\n",
    "        tota=billa+tipa\n",
    "        print(tota)\n",
    "    except Exception as e:\n",
    "        print(e)\n",
    "\n",
    "BILL()"
   ]
  },
  {
   "cell_type": "code",
   "execution_count": 19,
   "id": "7ba90c59-620f-4d60-8c62-ba0494cde55d",
   "metadata": {},
   "outputs": [
    {
     "name": "stdin",
     "output_type": "stream",
     "text": [
      "enter bill amt 43\n"
     ]
    },
    {
     "name": "stdout",
     "output_type": "stream",
     "text": [
      "4.3\n"
     ]
    }
   ],
   "source": [
    "def MEHFIL():\n",
    "    try:\n",
    "        billam=eval(input(\"enter bill amt\"))\n",
    "        tip=10/100\n",
    "        total=billam*tip\n",
    "        print(total)\n",
    "    except Exception as e:\n",
    "        print(e)\n",
    "\n",
    "MEHFIL()"
   ]
  },
  {
   "cell_type": "code",
   "execution_count": 21,
   "id": "b1046233-1684-4f21-bd80-f6118571bb67",
   "metadata": {},
   "outputs": [
    {
     "name": "stdin",
     "output_type": "stream",
     "text": [
      "enter lenght 45\n",
      "enter breth 55\n"
     ]
    },
    {
     "name": "stdout",
     "output_type": "stream",
     "text": [
      "2475\n"
     ]
    }
   ],
   "source": [
    "def FORR():\n",
    "    try:\n",
    "        lenght=eval(input(\"enter lenght\"))\n",
    "        breath=eval(input(\"enter breth\"))\n",
    "        areaaa=lenght*breath\n",
    "        print(areaaa)\n",
    "    except Exception as e:\n",
    "        print(e)\n",
    "\n",
    "FORR()"
   ]
  },
  {
   "cell_type": "code",
   "execution_count": 23,
   "id": "172766fe-94d7-4b61-a88d-159a5dadebe0",
   "metadata": {},
   "outputs": [
    {
     "name": "stdin",
     "output_type": "stream",
     "text": [
      "enter volume 67\n",
      "entre radius 77\n"
     ]
    },
    {
     "name": "stdout",
     "output_type": "stream",
     "text": [
      "16199.26\n"
     ]
    }
   ],
   "source": [
    "def VOLUMESPHERE():\n",
    "    try:\n",
    "        vol=eval(input(\"enter volume\"))\n",
    "        rd=eval(input(\"entre radius\"))\n",
    "        pi=3.14\n",
    "        tv=pi*rd*vol\n",
    "        print(tv)\n",
    "    except Exception as e:\n",
    "        print(e)\n",
    "\n",
    "VOLUMESPHERE()"
   ]
  },
  {
   "cell_type": "code",
   "execution_count": 25,
   "id": "0c81a749-eac8-49fb-99b3-92a11e6c8d53",
   "metadata": {},
   "outputs": [
    {
     "name": "stdin",
     "output_type": "stream",
     "text": [
      "enter no.of dollors 78\n"
     ]
    },
    {
     "name": "stdout",
     "output_type": "stream",
     "text": [
      "6630\n"
     ]
    }
   ],
   "source": [
    "def DOLLOR():\n",
    "    try:\n",
    "        dollo=eval(input(\"enter no.of dollors\"))\n",
    "        conv=dollo*85\n",
    "        print(conv)\n",
    "    except Exception as e:\n",
    "        print(e)\n",
    "DOLLOR()"
   ]
  },
  {
   "cell_type": "code",
   "execution_count": 27,
   "id": "1ac3341d-2da8-46c9-be77-5c051517c57d",
   "metadata": {},
   "outputs": [
    {
     "name": "stdin",
     "output_type": "stream",
     "text": [
      "enter kgs 67\n"
     ]
    },
    {
     "name": "stdout",
     "output_type": "stream",
     "text": [
      "147.4\n"
     ]
    }
   ],
   "source": [
    "def POUND():\n",
    "    try:\n",
    "        kg=eval(input(\"enter kgs\"))\n",
    "        pou=float(kg*2.2)\n",
    "        print(pou)\n",
    "    except Exception as e:\n",
    "        print(e)\n",
    "\n",
    "POUND()"
   ]
  },
  {
   "cell_type": "code",
   "execution_count": null,
   "id": "ef54c044-ac5d-4b8d-9f8c-e7a57c6cc2cd",
   "metadata": {},
   "outputs": [],
   "source": []
  },
  {
   "cell_type": "code",
   "execution_count": 29,
   "id": "4376f230-dc8c-47a9-909e-dc955fceff93",
   "metadata": {},
   "outputs": [
    {
     "name": "stdin",
     "output_type": "stream",
     "text": [
      "enter kgs 9\n"
     ]
    },
    {
     "name": "stdout",
     "output_type": "stream",
     "text": [
      "19.8\n"
     ]
    },
    {
     "name": "stdin",
     "output_type": "stream",
     "text": [
      "enter no.of dollors 9\n"
     ]
    },
    {
     "name": "stdout",
     "output_type": "stream",
     "text": [
      "765\n"
     ]
    },
    {
     "name": "stdin",
     "output_type": "stream",
     "text": [
      "enter volume 9\n",
      "entre radius 9\n"
     ]
    },
    {
     "name": "stdout",
     "output_type": "stream",
     "text": [
      "254.34\n"
     ]
    },
    {
     "name": "stdin",
     "output_type": "stream",
     "text": [
      "enter lenght 9\n",
      "enter breth 9\n"
     ]
    },
    {
     "name": "stdout",
     "output_type": "stream",
     "text": [
      "81\n"
     ]
    },
    {
     "name": "stdin",
     "output_type": "stream",
     "text": [
      "enter bill amt 9\n"
     ]
    },
    {
     "name": "stdout",
     "output_type": "stream",
     "text": [
      "0.9\n"
     ]
    },
    {
     "name": "stdin",
     "output_type": "stream",
     "text": [
      "enter bill amount 9\n",
      "enter tip amount 9\n"
     ]
    },
    {
     "name": "stdout",
     "output_type": "stream",
     "text": [
      "18\n"
     ]
    },
    {
     "name": "stdin",
     "output_type": "stream",
     "text": [
      "enter breadth 9\n",
      "enter height 9\n"
     ]
    },
    {
     "name": "stdout",
     "output_type": "stream",
     "text": [
      "40.5\n"
     ]
    },
    {
     "name": "stdin",
     "output_type": "stream",
     "text": [
      "enter the radius 9\n"
     ]
    },
    {
     "name": "stdout",
     "output_type": "stream",
     "text": [
      "254.34\n"
     ]
    },
    {
     "name": "stdin",
     "output_type": "stream",
     "text": [
      "enter the city name 9\n",
      "enter name 9\n",
      "enter age 9\n"
     ]
    },
    {
     "name": "stdout",
     "output_type": "stream",
     "text": [
      "my name is 9 iam 9 years old and came from 9\n"
     ]
    },
    {
     "name": "stdin",
     "output_type": "stream",
     "text": [
      "enter a n1 9\n",
      "enter a n2 9\n",
      "enter a n3 9\n"
     ]
    },
    {
     "name": "stdout",
     "output_type": "stream",
     "text": [
      "9.0\n"
     ]
    }
   ],
   "source": [
    "POUND()\n",
    "DOLLOR()\n",
    "VOLUMESPHERE()\n",
    "FORR()\n",
    "MEHFIL()\n",
    "BILL()\n",
    "AREA()\n",
    "RAD()\n",
    "CITY1()\n",
    "AVG()"
   ]
  },
  {
   "cell_type": "code",
   "execution_count": null,
   "id": "67ba8479-c4f7-40f3-b0ef-4e92b805724e",
   "metadata": {},
   "outputs": [],
   "source": []
  },
  {
   "cell_type": "code",
   "execution_count": null,
   "id": "e2539d8c-8cc2-4721-a083-1935049fb1ae",
   "metadata": {},
   "outputs": [],
   "source": []
  },
  {
   "cell_type": "code",
   "execution_count": null,
   "id": "dd937d05-a53b-494e-b9b4-b5c2c793ca35",
   "metadata": {},
   "outputs": [],
   "source": []
  },
  {
   "cell_type": "code",
   "execution_count": null,
   "id": "df2aaea5-a9ad-4c7c-8d90-736d1f8d1563",
   "metadata": {},
   "outputs": [],
   "source": []
  },
  {
   "cell_type": "code",
   "execution_count": null,
   "id": "54d5c993-bb80-48cc-bd8b-061837f2f1f9",
   "metadata": {},
   "outputs": [],
   "source": []
  },
  {
   "cell_type": "code",
   "execution_count": null,
   "id": "45040049-2a73-462a-b791-799085fae809",
   "metadata": {},
   "outputs": [],
   "source": []
  },
  {
   "cell_type": "code",
   "execution_count": null,
   "id": "b20a9723-7e95-4d4a-a603-e942a468496c",
   "metadata": {},
   "outputs": [],
   "source": []
  },
  {
   "cell_type": "code",
   "execution_count": null,
   "id": "4744859d-c44e-4f92-9091-8a18f4e4991f",
   "metadata": {},
   "outputs": [],
   "source": []
  },
  {
   "cell_type": "code",
   "execution_count": null,
   "id": "e6cab370-e58e-4191-8b31-352222d76238",
   "metadata": {},
   "outputs": [],
   "source": []
  },
  {
   "cell_type": "code",
   "execution_count": null,
   "id": "d5e350da-1796-4ff5-a60c-ea708f27afcd",
   "metadata": {},
   "outputs": [],
   "source": []
  }
 ],
 "metadata": {
  "kernelspec": {
   "display_name": "Python [conda env:base] *",
   "language": "python",
   "name": "conda-base-py"
  },
  "language_info": {
   "codemirror_mode": {
    "name": "ipython",
    "version": 3
   },
   "file_extension": ".py",
   "mimetype": "text/x-python",
   "name": "python",
   "nbconvert_exporter": "python",
   "pygments_lexer": "ipython3",
   "version": "3.12.7"
  }
 },
 "nbformat": 4,
 "nbformat_minor": 5
}
