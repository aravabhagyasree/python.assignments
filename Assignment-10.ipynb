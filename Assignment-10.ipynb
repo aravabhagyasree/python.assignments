{
 "cells": [
  {
   "cell_type": "code",
   "execution_count": 6,
   "id": "de21c4a6-2206-45c1-8200-387598c39a2c",
   "metadata": {},
   "outputs": [
    {
     "data": {
      "text/plain": [
       "'elon musk'"
      ]
     },
     "execution_count": 6,
     "metadata": {},
     "output_type": "execute_result"
    }
   ],
   "source": [
    "name='elon musk'\n",
    "name"
   ]
  },
  {
   "cell_type": "code",
   "execution_count": 8,
   "id": "ab1aa87f-80e5-4b51-9bd5-e42b78180bce",
   "metadata": {},
   "outputs": [
    {
     "name": "stdout",
     "output_type": "stream",
     "text": [
      "elon musk\n"
     ]
    }
   ],
   "source": [
    "print(name)"
   ]
  },
  {
   "cell_type": "code",
   "execution_count": 10,
   "id": "dbc2d886-fe46-489d-bc3d-315803f0c669",
   "metadata": {},
   "outputs": [
    {
     "name": "stdout",
     "output_type": "stream",
     "text": [
      "Just do \"it\" \n"
     ]
    }
   ],
   "source": [
    "name='Just do \"it\" '\n",
    "print(name)"
   ]
  },
  {
   "cell_type": "code",
   "execution_count": 12,
   "id": "a6b9a4b9-6dcc-4f22-8eff-dc8f4a82fdc8",
   "metadata": {},
   "outputs": [
    {
     "data": {
      "text/plain": [
       "str"
      ]
     },
     "execution_count": 12,
     "metadata": {},
     "output_type": "execute_result"
    }
   ],
   "source": [
    "name='just do it'\n",
    "type(name)"
   ]
  },
  {
   "cell_type": "code",
   "execution_count": 14,
   "id": "a2b0d931-fbad-4d38-bf8a-89751910fc4d",
   "metadata": {},
   "outputs": [
    {
     "data": {
      "text/plain": [
       "10"
      ]
     },
     "execution_count": 14,
     "metadata": {},
     "output_type": "execute_result"
    }
   ],
   "source": [
    "name='just do it'\n",
    "len(name)"
   ]
  },
  {
   "cell_type": "code",
   "execution_count": 16,
   "id": "21ce329e-7ad5-4483-8dfe-7e80d3431cc8",
   "metadata": {},
   "outputs": [
    {
     "data": {
      "text/plain": [
       "'u'"
      ]
     },
     "execution_count": 16,
     "metadata": {},
     "output_type": "execute_result"
    }
   ],
   "source": [
    "name='just do it'\n",
    "max(name)"
   ]
  },
  {
   "cell_type": "code",
   "execution_count": 18,
   "id": "d1cc6185-4400-4fa1-a0a7-e3f9612e7e59",
   "metadata": {},
   "outputs": [
    {
     "data": {
      "text/plain": [
       "' '"
      ]
     },
     "execution_count": 18,
     "metadata": {},
     "output_type": "execute_result"
    }
   ],
   "source": [
    "name='just do it'\n",
    "min(name)"
   ]
  },
  {
   "cell_type": "code",
   "execution_count": 22,
   "id": "f29e71da-bd9f-4510-bf5a-b7957143668f",
   "metadata": {},
   "outputs": [
    {
     "data": {
      "text/plain": [
       "[' ', ' ', 'd', 'i', 'j', 'o', 's', 't', 't', 'u']"
      ]
     },
     "execution_count": 22,
     "metadata": {},
     "output_type": "execute_result"
    }
   ],
   "source": [
    "hell='just do it'\n",
    "sorted(hell)"
   ]
  },
  {
   "cell_type": "code",
   "execution_count": 28,
   "id": "d6bcdcab-b38d-47c5-9c92-36a2b7825161",
   "metadata": {},
   "outputs": [
    {
     "data": {
      "text/plain": [
       "['u', 't', 't', 's', 'o', 'j', 'i', 'd', ' ', ' ']"
      ]
     },
     "execution_count": 28,
     "metadata": {},
     "output_type": "execute_result"
    }
   ],
   "source": [
    "sorted('just do it',reverse=True)"
   ]
  },
  {
   "cell_type": "code",
   "execution_count": 30,
   "id": "df2ad70e-993a-41c5-8959-ee8646af1d14",
   "metadata": {},
   "outputs": [
    {
     "data": {
      "text/plain": [
       "<reversed at 0x124b681c0>"
      ]
     },
     "execution_count": 30,
     "metadata": {},
     "output_type": "execute_result"
    }
   ],
   "source": [
    "reversed('just do it')"
   ]
  },
  {
   "cell_type": "code",
   "execution_count": 34,
   "id": "baa775a5-9fc2-4c6f-9b9b-f92236981921",
   "metadata": {},
   "outputs": [
    {
     "name": "stdout",
     "output_type": "stream",
     "text": [
      "t\n",
      "i\n",
      " \n",
      "o\n",
      "d\n",
      " \n",
      "t\n",
      "s\n",
      "u\n",
      "j\n"
     ]
    }
   ],
   "source": [
    "fu=reversed('just do it')\n",
    "for i in fu:\n",
    "    print(i)"
   ]
  },
  {
   "cell_type": "code",
   "execution_count": 36,
   "id": "b18274e4-55d4-49f1-bd08-cbd3aef56f5a",
   "metadata": {},
   "outputs": [
    {
     "data": {
      "text/plain": [
       "['t', 'i', ' ', 'o', 'd', ' ', 't', 's', 'u', 'j']"
      ]
     },
     "execution_count": 36,
     "metadata": {},
     "output_type": "execute_result"
    }
   ],
   "source": [
    "fuc=reversed('just do it')\n",
    "list(fuc)"
   ]
  },
  {
   "cell_type": "code",
   "execution_count": 38,
   "id": "4d4086f7-b9a4-420d-8dd4-2389751223c5",
   "metadata": {},
   "outputs": [
    {
     "data": {
      "text/plain": [
       "'justdoit'"
      ]
     },
     "execution_count": 38,
     "metadata": {},
     "output_type": "execute_result"
    }
   ],
   "source": [
    "'just' +'do' +'it'"
   ]
  },
  {
   "cell_type": "code",
   "execution_count": 40,
   "id": "fc6c2351-2cae-41d7-a33b-79db9dd48b7e",
   "metadata": {},
   "outputs": [
    {
     "data": {
      "text/plain": [
       "'just do it'"
      ]
     },
     "execution_count": 40,
     "metadata": {},
     "output_type": "execute_result"
    }
   ],
   "source": [
    "'just' +' do' +' it'"
   ]
  },
  {
   "cell_type": "code",
   "execution_count": 48,
   "id": "a56f9b9a-3f99-47b1-965f-afa05d52bd82",
   "metadata": {},
   "outputs": [
    {
     "data": {
      "text/plain": [
       "'just do it& take action'"
      ]
     },
     "execution_count": 48,
     "metadata": {},
     "output_type": "execute_result"
    }
   ],
   "source": [
    "fu1='just do it'\n",
    "fuc2='& take action'\n",
    "fu1+fuc2"
   ]
  },
  {
   "cell_type": "code",
   "execution_count": 50,
   "id": "9d0e6539-7f9b-4a8f-995f-3c45780df809",
   "metadata": {},
   "outputs": [
    {
     "data": {
      "text/plain": [
       "'just do it & take action'"
      ]
     },
     "execution_count": 50,
     "metadata": {},
     "output_type": "execute_result"
    }
   ],
   "source": [
    "fu1='just do it'\n",
    "fuc2=' & take action'\n",
    "fu1+fuc2"
   ]
  },
  {
   "cell_type": "code",
   "execution_count": 56,
   "id": "1689b915-ab1a-42b0-aba9-4effcb65193c",
   "metadata": {},
   "outputs": [
    {
     "data": {
      "text/plain": [
       "'just do it & take action, just do it & take action, just do it & take action, '"
      ]
     },
     "execution_count": 56,
     "metadata": {},
     "output_type": "execute_result"
    }
   ],
   "source": [
    "'just do it & take action, ' * 3"
   ]
  },
  {
   "cell_type": "code",
   "execution_count": 60,
   "id": "f42d0032-3fcd-467b-bb7d-3ad503bdedb3",
   "metadata": {},
   "outputs": [
    {
     "data": {
      "text/plain": [
       "'just do it & take action'"
      ]
     },
     "execution_count": 60,
     "metadata": {},
     "output_type": "execute_result"
    }
   ],
   "source": [
    "fu1='just do it'\n",
    "fuc2='& take action'\n",
    "fu1+' '+fuc2"
   ]
  }
 ],
 "metadata": {
  "kernelspec": {
   "display_name": "Python [conda env:base] *",
   "language": "python",
   "name": "conda-base-py"
  },
  "language_info": {
   "codemirror_mode": {
    "name": "ipython",
    "version": 3
   },
   "file_extension": ".py",
   "mimetype": "text/x-python",
   "name": "python",
   "nbconvert_exporter": "python",
   "pygments_lexer": "ipython3",
   "version": "3.12.7"
  }
 },
 "nbformat": 4,
 "nbformat_minor": 5
}
