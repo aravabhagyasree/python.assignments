{
 "cells": [
  {
   "cell_type": "markdown",
   "id": "0a226d14-25d1-4216-874d-9993d91beb4c",
   "metadata": {},
   "source": [
    "1. Ramesh’s basic salary is input through the keyboard. His dearness allowance is 40% of basic salary, and\n",
    "house rent allowance is 20% of basic salary. Write a program to calculate his gross salary."
   ]
  },
  {
   "cell_type": "code",
   "execution_count": 4,
   "id": "c66f9957-2bef-4bc3-a585-524d3cde9657",
   "metadata": {},
   "outputs": [
    {
     "name": "stdin",
     "output_type": "stream",
     "text": [
      "enter ramesh salary \n"
     ]
    },
    {
     "name": "stdout",
     "output_type": "stream",
     "text": [
      "invalid\n"
     ]
    }
   ],
   "source": [
    "try:\n",
    "    ra=eval(input(\"enter ramesh salary\"))\n",
    "    da=ra*40/100\n",
    "    print(f\"dearness allowance = {da}\")\n",
    "    hr=ra*20/100\n",
    "    print(f\"house rent = {hr}\")\n",
    "    gs=da+hr+ra\n",
    "    print(\"the gross salary\",gs)\n",
    "except:\n",
    "    print('invalid')"
   ]
  },
  {
   "cell_type": "markdown",
   "id": "e3b607fb-a7a2-473d-a4fe-19f1f4ec6918",
   "metadata": {},
   "source": [
    "2. The distance between two cities (in km.) is input through the keyboard. Write a program to convert and\n",
    "print this distance in meters, feet, inches and centimeters."
   ]
  },
  {
   "cell_type": "markdown",
   "id": "bcc89f38-aa07-4e6f-a860-fd0c9ea6d18c",
   "metadata": {},
   "source": [
    "- meters= km*1000\n",
    "- feet= km*3280.84\n",
    "- inch= km*39370.1\n",
    "- centimetres= km*100000"
   ]
  },
  {
   "cell_type": "code",
   "execution_count": 79,
   "id": "9f1d34c3-ee01-4288-ad58-643433622cf5",
   "metadata": {},
   "outputs": [
    {
     "name": "stdin",
     "output_type": "stream",
     "text": [
      "enter the city name c1: f\n",
      "enter the city name c2: f\n",
      "enter the distance bt f and f f\n"
     ]
    },
    {
     "name": "stdout",
     "output_type": "stream",
     "text": [
      "invalid\n"
     ]
    }
   ],
   "source": [
    "try:\n",
    "    c1=input(\"enter the city name c1:\")\n",
    "    c2=input(\"enter the city name c2:\")\n",
    "    d1=eval(input(f\"enter the distance bt {c1} and {c2}\"))\n",
    "    print('distance in meters',float(d1*1000),'mt')\n",
    "    print('distance in feets',float(d1*3280.84),'ft')\n",
    "    print('distance in inches',float(d1*39370.1),'inc')\n",
    "    print('distance in centimeters',float(d1*100000),'cm')\n",
    "except:\n",
    "    print('invalid')"
   ]
  },
  {
   "cell_type": "markdown",
   "id": "85fe3431-2338-4688-acac-c9be3f50ce0a",
   "metadata": {},
   "source": [
    "3. If the marks obtained by a student in five different subjects are input through the keyboard, find out the\n",
    "aggregate marks and percentage marks obtained by the student. Assume that the maximum marks that\n",
    "can be obtained by a student in each subject is 100."
   ]
  },
  {
   "cell_type": "code",
   "execution_count": 128,
   "id": "ba55d4c2-7238-4743-9a66-63e141b9e3d2",
   "metadata": {},
   "outputs": [
    {
     "name": "stdin",
     "output_type": "stream",
     "text": [
      "enter telugu marks: \n"
     ]
    },
    {
     "name": "stdout",
     "output_type": "stream",
     "text": [
      "invalid\n"
     ]
    }
   ],
   "source": [
    "try:\n",
    "    tel=eval(input(\"enter telugu marks:\"))\n",
    "    hin=eval(input(\"enter hindi marks:\"))\n",
    "    eng=eval(input(\"enter english marks:\"))\n",
    "    mat=eval(input(\"enter maths marks:\"))\n",
    "    sci=eval(input(\"enter science marks:\"))\n",
    "    am=tel+hin+eng+mat+sci\n",
    "    print(\"total marks obtained:\",am)\n",
    "    print(\"total percentage:\",am/500*100)\n",
    "except:\n",
    "    print(\"invalid\")"
   ]
  },
  {
   "cell_type": "markdown",
   "id": "10244287-260a-47cd-baa9-f133fe6d7422",
   "metadata": {},
   "source": [
    "4. Temperature of a city in Fahrenheit degrees is input through the keyboard. Write a program to convert this\n",
    "temperature into Centigrade degrees."
   ]
  },
  {
   "cell_type": "markdown",
   "id": "3bda91ca-d1a4-4340-9af8-2008abea1d9f",
   "metadata": {},
   "source": [
    "- c=5/9(f-32)"
   ]
  },
  {
   "cell_type": "code",
   "execution_count": 23,
   "id": "aa9777fb-46de-4841-8839-2fe3054f3fb0",
   "metadata": {},
   "outputs": [
    {
     "name": "stdin",
     "output_type": "stream",
     "text": [
      "enter fahrenheit degree of hydrogen \n"
     ]
    },
    {
     "name": "stdout",
     "output_type": "stream",
     "text": [
      "invalid\n"
     ]
    }
   ],
   "source": [
    "try:\n",
    "    fd=eval(input(\"enter fahrenheit degree of hydrogen\"))\n",
    "    cd=float(5/9*(fd-32))\n",
    "    print(\"the centigrade degree is:\",abs(cd))\n",
    "except:\n",
    "    print('invalid')"
   ]
  },
  {
   "cell_type": "markdown",
   "id": "60478e70-a393-4653-91bb-603da0d45493",
   "metadata": {},
   "source": [
    "5. The length & breadth of a rectangle and radius of a circle are input through the keyboard. Write a program\n",
    "to calculate the area & perimeter of the rectangle, and the area & circumference of the circle."
   ]
  },
  {
   "cell_type": "code",
   "execution_count": null,
   "id": "c56ba091-c28b-4336-9adb-c5c7484f5e52",
   "metadata": {},
   "outputs": [],
   "source": [
    "try:\n",
    "    le=eval(input(\"enter the lenght of rectangle:\"))\n",
    "    br=eval(input(\"enter the breadth of rectangle:\"))\n",
    "    ra=eval(input(\"enter the radius of circle:\"))\n",
    "    area=le*br\n",
    "    per=2*(le+br)\n",
    "    area_of_circle=float(3.14*(ra*ra))\n",
    "    cir=float(2*3.14*ra)\n",
    "    print(f\"the area of given rectangle is {area} and the perimeter of the rectangle is {per}.\")\n",
    "    print(f\"the area of circle is {area_of_circle} and the circumference of the circle is {cir}\")\n",
    "except:\n",
    "    print('invalid')"
   ]
  },
  {
   "cell_type": "markdown",
   "id": "e9ff4320-2c1e-40e2-893e-1d5e2a081842",
   "metadata": {},
   "source": [
    "6. Two numbers are input through the keyboard into two locations C and D. Write a program to interchange\n",
    "the contents of C and D."
   ]
  },
  {
   "cell_type": "code",
   "execution_count": 9,
   "id": "d94a1130-9fbd-45d2-9935-37d707e64890",
   "metadata": {},
   "outputs": [
    {
     "name": "stdout",
     "output_type": "stream",
     "text": [
      "23 22\n",
      "22 23\n"
     ]
    }
   ],
   "source": [
    "import random\n",
    "a=random.randint(1,100)\n",
    "b=random.randint(1,100)\n",
    "print(a,b)\n",
    "a,b=b,a\n",
    "print(a,b)"
   ]
  },
  {
   "cell_type": "markdown",
   "id": "3facda0d-0c38-4eb6-aa83-d27e1351c3d3",
   "metadata": {},
   "source": [
    "7. If a five-digit number is input through the keyboard, write a program to reverse the number."
   ]
  },
  {
   "cell_type": "code",
   "execution_count": 23,
   "id": "b705eb27-1f46-4ad2-ac54-824fce96fada",
   "metadata": {},
   "outputs": [
    {
     "name": "stdin",
     "output_type": "stream",
     "text": [
      "enter any values 12345\n"
     ]
    },
    {
     "name": "stdout",
     "output_type": "stream",
     "text": [
      "54321\n"
     ]
    }
   ],
   "source": [
    "num = input(\"enter any values\")\n",
    "rev = num [::-1]\n",
    "print(rev)"
   ]
  },
  {
   "cell_type": "markdown",
   "id": "bba54981-e56b-4e90-9053-ef804ac34ad4",
   "metadata": {},
   "source": [
    "9. In a town, the percentage of men is 52. The percentage of total literacy is 48. If total percentage of literate\n",
    "men is 35 of the total population, write a program to find the total number of illiterate men and women if\n",
    "the population of the town is 80,000."
   ]
  },
  {
   "cell_type": "code",
   "execution_count": 29,
   "id": "fc85b1db-4a19-40e3-a801-63dd3148384a",
   "metadata": {},
   "outputs": [
    {
     "name": "stdout",
     "output_type": "stream",
     "text": [
      "Total number of illiterate men: 13600\n",
      "Total number of illiterate women: 28000\n"
     ]
    }
   ],
   "source": [
    "try:\n",
    "    total_population = 80000\n",
    "    percent_men = 52\n",
    "    percent_literacy = 48\n",
    "    percent_literate_men = 35\n",
    "    total_men = (percent_men / 100) * total_population\n",
    "    total_women = total_population - total_men\n",
    "    total_literate_population = (percent_literacy / 100) * total_population\n",
    "    literate_men = (percent_literate_men / 100) * total_population\n",
    "    literate_women = total_literate_population - literate_men\n",
    "    illiterate_men = total_men - literate_men\n",
    "    illiterate_women = total_women - literate_women\n",
    "    print(\"Total number of illiterate men:\", int(illiterate_men))\n",
    "    print(\"Total number of illiterate women:\", int(illiterate_women))\n",
    "except:\n",
    "    print(\"invalid\")"
   ]
  }
 ],
 "metadata": {
  "kernelspec": {
   "display_name": "Python [conda env:base] *",
   "language": "python",
   "name": "conda-base-py"
  },
  "language_info": {
   "codemirror_mode": {
    "name": "ipython",
    "version": 3
   },
   "file_extension": ".py",
   "mimetype": "text/x-python",
   "name": "python",
   "nbconvert_exporter": "python",
   "pygments_lexer": "ipython3",
   "version": "3.12.7"
  }
 },
 "nbformat": 4,
 "nbformat_minor": 5
}
