{
 "cells": [
  {
   "cell_type": "markdown",
   "id": "3a713d10-26e4-4cd3-a831-ffe2223233a9",
   "metadata": {},
   "source": [
    "1. Write a program that asks the user to enter a length in centimetres. If the user enters\n",
    "a negative length, the program should tell the user that the entry is invalid. Otherwise,\n",
    "the program should convert the length to inches and print out the result. There are\n",
    "2.54 centimetres in an inch."
   ]
  },
  {
   "cell_type": "code",
   "execution_count": 7,
   "id": "a73d155d-274e-4a67-aff8-b57b1ccf2d9e",
   "metadata": {},
   "outputs": [
    {
     "name": "stdin",
     "output_type": "stream",
     "text": [
      "enter lenght -8\n"
     ]
    },
    {
     "name": "stdout",
     "output_type": "stream",
     "text": [
      "entry is invalid\n"
     ]
    }
   ],
   "source": [
    "leng=int(input(\"enter lenght\"))\n",
    "if leng>0:\n",
    "    cen=leng*2.54\n",
    "    print(cen)\n",
    "else:\n",
    "    print(\"entry is invalid\")"
   ]
  },
  {
   "cell_type": "markdown",
   "id": "98e594f0-5f41-4ba0-8cf0-7c7431b7e13c",
   "metadata": {},
   "source": [
    "2. Ask the user for a temperature. Then ask them what units, Celsius or Fahrenheit, the\n",
    "temperature is in. Your program should convert the temperature to the other unit. The\n",
    "conversions are F = 9 5 C +32 and C = 5 9 (F − 32)."
   ]
  },
  {
   "cell_type": "code",
   "execution_count": 1,
   "id": "a03195e6-9aef-47bf-b197-aee9463a9969",
   "metadata": {},
   "outputs": [
    {
     "name": "stdin",
     "output_type": "stream",
     "text": [
      "enter temperature 8\n",
      " enter  what units celsius or Fahrenheit  f\n"
     ]
    },
    {
     "name": "stdout",
     "output_type": "stream",
     "text": [
      "792\n"
     ]
    }
   ],
   "source": [
    "temp=eval(input(\"enter temperature\"))\n",
    "units=str(input(\" enter  what units celsius or Fahrenheit \"))\n",
    "if units =='c':\n",
    "    cels=59*(temp-32)\n",
    "    print(c)\n",
    "elif units =='f':\n",
    "    fah=95*temp+32\n",
    "    print(fah)\n",
    "else:\n",
    "    print('enter a valid number')"
   ]
  },
  {
   "cell_type": "markdown",
   "id": "3151f88e-9473-4cdd-9014-ec0f0b3cb5ee",
   "metadata": {},
   "source": [
    "3. Ask the user to enter a temperature in Celsius. The program should print a\n",
    "message based on the temperature:\n",
    "- • If the temperature is less than -273.15, print that the temperature is invalid because it is\n",
    "below absolute zero.\n",
    "- • If it is exactly -273.15, print that the temperature is absolute 0.\n",
    "- • If the temperature is between -273.15 and 0, print that the temperature is below\n",
    "freezing.\n",
    "- • If it is 0, print that the temperature is at the freezing point.\n",
    "- • If it is between 0 and 100, print that the temperature is in the normal\n",
    "range.\n",
    "- • If it is 100, print that the temperature is at the boiling point.\n",
    "- • If it is above 100, print that the temperature is above the boiling point."
   ]
  },
  {
   "cell_type": "code",
   "execution_count": 54,
   "id": "9d73729b-ab19-4253-aca3-3f39e6423697",
   "metadata": {},
   "outputs": [
    {
     "name": "stdin",
     "output_type": "stream",
     "text": [
      " enter a temperature in celsius  189\n"
     ]
    },
    {
     "name": "stdout",
     "output_type": "stream",
     "text": [
      " the temperature is above the boiling point \n"
     ]
    }
   ],
   "source": [
    "temp=eval(input(\" enter a temperature in celsius \"))\n",
    "if temp<(-273.15):\n",
    "    print(\" the temperature is invalid because it is below absolute zero \")\n",
    "elif temp==(-273.15):\n",
    "    print(\" the temperature is absolute zero \")\n",
    "elif -273.15 <= temp < 0:\n",
    "    print(\" the temperature is below freezing \")\n",
    "elif temp==0:\n",
    "    print(\" the temperature is at freezing point \")\n",
    "elif 0<=temp<100:\n",
    "    print(\" the temperature is in the normal range \")\n",
    "elif temp==100:\n",
    "    print(\" the temperature is at the boiling point \")\n",
    "elif temp>100:\n",
    "    print(\" the temperature is above the boiling point \")"
   ]
  },
  {
   "cell_type": "markdown",
   "id": "d3862412-c890-4741-b8cd-cae25f6c07bb",
   "metadata": {},
   "source": [
    "4. Write a program that asks the user how many credits they have taken. If they have taken 23 or\n",
    "less, print that the student is a freshman. If they have taken between 24 and 53, print that they\n",
    "are asophomore. The range for juniors is 54 to 83, and for seniors it is 84 and over."
   ]
  },
  {
   "cell_type": "code",
   "execution_count": 165,
   "id": "f957c18d-560f-4d1d-aa5c-b1f1807bbbfe",
   "metadata": {},
   "outputs": [
    {
     "name": "stdout",
     "output_type": "stream",
     "text": [
      "1\n",
      " the student is a freshman \n"
     ]
    }
   ],
   "source": [
    "import random\n",
    "cred=random.randint(0,100)\n",
    "print(cred)\n",
    "if cred<23:\n",
    "    print(\" the student is a freshman \")\n",
    "elif 24<=cred<53:\n",
    "    print(\" the student is asophomore \")\n",
    "elif 54<=cred<83:\n",
    "    print(\" the student is junior \")\n",
    "elif cred>=84:\n",
    "    print(\" the student is senior \")\n",
    "else:\n",
    "    print(\" enter a valid credits \")"
   ]
  },
  {
   "cell_type": "markdown",
   "id": "10c8dc3e-e569-40cf-8875-5a29addaf34d",
   "metadata": {},
   "source": [
    "5. Generate a random number between 1 and 10. Ask the user to guess the number and print a\n",
    "message based on whether they get it right or not."
   ]
  },
  {
   "cell_type": "code",
   "execution_count": 5,
   "id": "56040372-0b12-4a61-ac31-734fe87fde48",
   "metadata": {},
   "outputs": [
    {
     "name": "stdout",
     "output_type": "stream",
     "text": [
      "4\n"
     ]
    },
    {
     "name": "stdin",
     "output_type": "stream",
     "text": [
      "enter any number 4\n"
     ]
    },
    {
     "name": "stdout",
     "output_type": "stream",
     "text": [
      "right\n"
     ]
    }
   ],
   "source": [
    "import random\n",
    "\n",
    "rnum=random.randint(1,10)\n",
    "print(rnum)\n",
    "user=eval(input(\"enter any number\"))\n",
    "if rnum==user:\n",
    "    print(\"right\")\n",
    "else:\n",
    "    print(\"not\")\n"
   ]
  },
  {
   "cell_type": "markdown",
   "id": "606b6e23-3ae3-4648-871c-7da5c19018ed",
   "metadata": {},
   "source": [
    "6. A store charges $ 12 per item if you buy less than 10 items. If you buy between 10\n",
    "and 99 items, the cost is $ 10 per item. If you buy 100 or more items, the cost is $7\n",
    "per item. Write a program that asks the user how many items they are buying and\n",
    "prints the total cost."
   ]
  },
  {
   "cell_type": "code",
   "execution_count": 34,
   "id": "4788fcf4-a429-4bfa-bcb1-3a587bfee48b",
   "metadata": {},
   "outputs": [
    {
     "name": "stdin",
     "output_type": "stream",
     "text": [
      "enter no.of items 8888\n"
     ]
    },
    {
     "name": "stdout",
     "output_type": "stream",
     "text": [
      "total cost for more than 100 items:62216\n"
     ]
    }
   ],
   "source": [
    "itemm=eval(input(\"enter no.of items\"))\n",
    "if itemm<10:\n",
    "    coss=itemm*12\n",
    "    print(f'total cost for less than 10 items:{coss}')\n",
    "elif 10<=itemm<=99:\n",
    "    coss=itemm*10\n",
    "    print(f'total cost inbetween 10 and 99 items:{coss}')\n",
    "elif itemm>=100:\n",
    "    coss=itemm*7\n",
    "    print(f'total cost for more than 100 items:{coss}')"
   ]
  },
  {
   "cell_type": "markdown",
   "id": "36985122-dc02-426f-97d7-9eecf0dc4369",
   "metadata": {},
   "source": [
    "7. Write a program that asks the user for two numbers and print Close if the\n",
    "numbers are within .001of each other and Not close otherwise."
   ]
  },
  {
   "cell_type": "code",
   "execution_count": 36,
   "id": "b43b3c5f-a2f1-42e3-98d1-bc9ef441edb4",
   "metadata": {},
   "outputs": [
    {
     "name": "stdin",
     "output_type": "stream",
     "text": [
      "enter a number n1: 1.9\n",
      "enter a number n2: 1.8\n"
     ]
    },
    {
     "name": "stdout",
     "output_type": "stream",
     "text": [
      "not close\n"
     ]
    }
   ],
   "source": [
    "n1=eval(input(\"enter a number n1:\"))\n",
    "n2=eval(input(\"enter a number n2:\"))\n",
    "if abs(n1-n2)<0.001:\n",
    "    print('close')\n",
    "else:\n",
    "    print('not close')"
   ]
  },
  {
   "cell_type": "markdown",
   "id": "d8d8c800-f1b3-4bb3-ae43-8a1e9643b5aa",
   "metadata": {},
   "source": [
    "8. A year is a leap year if it is divisible by 4, except that years divisible by 100 are not leap years unless\n",
    "they are also divisible by 400. Write a program that asks the user for a year and prints out whether\n",
    "it is a leap year or not."
   ]
  },
  {
   "cell_type": "code",
   "execution_count": 59,
   "id": "04972897-e72d-461a-b0c7-1d6372c28f44",
   "metadata": {},
   "outputs": [
    {
     "name": "stdin",
     "output_type": "stream",
     "text": [
      "enter a year 1786\n"
     ]
    },
    {
     "name": "stdout",
     "output_type": "stream",
     "text": [
      "1786 not a leap year\n"
     ]
    }
   ],
   "source": [
    "yea=eval(input(\"enter a year\"))\n",
    "if (yea%4==0 and yea%100 !=0) or (yea%400==0):\n",
    "    print(\"leap year\",yea)\n",
    "else:\n",
    "    print(f\"{yea} not a leap year\")"
   ]
  },
  {
   "cell_type": "markdown",
   "id": "5b948eca-fb56-4f5c-971c-395cbbefd981",
   "metadata": {},
   "source": [
    "10. Write a program that asks the user for an hour between 1 and 12, asks them to\n",
    "enter am or pm, and asks them how many hours into the future they want to go.\n",
    "Print out what the hour will be that many hours into the future, printing am or pm as\n",
    "appropriate. An example is shown below.\n",
    "\n",
    "Enter hour: 8\n",
    "am (1) or pm (2)? 1\n",
    "How many hours ahead? 5\n",
    "New hour: 1 pm"
   ]
  },
  {
   "cell_type": "code",
   "execution_count": 13,
   "id": "9bbef424-9f94-4713-bb48-2fbc926c5a06",
   "metadata": {},
   "outputs": [
    {
     "name": "stdin",
     "output_type": "stream",
     "text": [
      "enter hour 1 to 12: 9\n",
      "enter am or pm pm\n",
      "how many hours you want to go? 8\n"
     ]
    },
    {
     "name": "stdout",
     "output_type": "stream",
     "text": [
      "new hour is: 5 am\n"
     ]
    }
   ],
   "source": [
    "try:\n",
    "    hour = int(input(\"enter hour 1 to 12:\"))\n",
    "    if 12>= hour >=1:\n",
    "        time_unit = input(\"enter am or pm\").lower()\n",
    "        future = int(input(\"how many hours you want to go?\"))\n",
    "        if time_unit == 'am':\n",
    "            total = hour + future\n",
    "            if total>12:\n",
    "                new_hour = total-12\n",
    "                print(f'new hour is: {new_hour} pm')\n",
    "            else:\n",
    "                new_hour = total\n",
    "                print(f'new hour is: {new_hour} am')\n",
    "        elif time_unit =='pm':\n",
    "            total =hour +future\n",
    "            if total >12:\n",
    "                new_hour = total-12\n",
    "                print(f'new hour is: {new_hour} am')\n",
    "            else:\n",
    "                new_hour = total\n",
    "                print(f'new hour is: {new_hour} pm') \n",
    "        else:\n",
    "            print(\"please enter 'am' or 'pm' correctly.\")\n",
    "    else:\n",
    "        print(\"enter a valid hour between 1 and 12\")\n",
    "except ValueError as e:\n",
    "    print(e)"
   ]
  }
 ],
 "metadata": {
  "kernelspec": {
   "display_name": "Python [conda env:base] *",
   "language": "python",
   "name": "conda-base-py"
  },
  "language_info": {
   "codemirror_mode": {
    "name": "ipython",
    "version": 3
   },
   "file_extension": ".py",
   "mimetype": "text/x-python",
   "name": "python",
   "nbconvert_exporter": "python",
   "pygments_lexer": "ipython3",
   "version": "3.12.7"
  }
 },
 "nbformat": 4,
 "nbformat_minor": 5
}
