{
 "cells": [
  {
   "cell_type": "code",
   "execution_count": 251,
   "id": "4ede5112-a03f-4180-8026-a1065de6585b",
   "metadata": {},
   "outputs": [
    {
     "name": "stdin",
     "output_type": "stream",
     "text": [
      "enter city hyd\n",
      "enter city ben\n",
      "enter city mum\n",
      "enter city pune\n"
     ]
    },
    {
     "data": {
      "text/plain": [
       "[['hyd', 'ben', 'mum', 'pune']]"
      ]
     },
     "execution_count": 251,
     "metadata": {},
     "output_type": "execute_result"
    }
   ],
   "source": [
    "#Q3) \n",
    "cities=[]\n",
    "city1= input('enter city')\n",
    "city2= input('enter city')\n",
    "city3= input('enter city')\n",
    "city4= input('enter city')\n",
    "cities.append([city1,city2,city3,city4])\n",
    "\n",
    "cities"
   ]
  },
  {
   "cell_type": "code",
   "execution_count": 8,
   "id": "a276a493-8a03-4a16-af1d-b53fba87d44c",
   "metadata": {},
   "outputs": [
    {
     "name": "stdin",
     "output_type": "stream",
     "text": [
      "enter city hyd\n",
      "enter city ben\n",
      "enter city pune\n",
      "enter city mum\n"
     ]
    },
    {
     "data": {
      "text/plain": [
       "[['HYD', 'BEN', 'PUNE', 'MUM']]"
      ]
     },
     "execution_count": 8,
     "metadata": {},
     "output_type": "execute_result"
    }
   ],
   "source": [
    "# Q4)\n",
    "cities=[]\n",
    "city1= input('enter city')\n",
    "c1=city1.upper()\n",
    "city2= input('enter city')\n",
    "c2=city2.upper()\n",
    "city3= input('enter city')\n",
    "c3=city3.upper()\n",
    "city4= input('enter city')\n",
    "c4=city4.upper()\n",
    "cities.append([c1,c2,c3,c4])\n",
    "\n",
    "cities"
   ]
  },
  {
   "cell_type": "code",
   "execution_count": 10,
   "id": "16036a8e-fc17-469c-8184-63138a43df70",
   "metadata": {},
   "outputs": [
    {
     "name": "stdin",
     "output_type": "stream",
     "text": [
      "enter city ben#galuru\n",
      "enter city mu#mbai\n",
      "enter city hyd\n",
      "enter city pune\n"
     ]
    },
    {
     "data": {
      "text/plain": [
       "[['ben#galuru', 'mu#mbai']]"
      ]
     },
     "execution_count": 10,
     "metadata": {},
     "output_type": "execute_result"
    }
   ],
   "source": [
    "# Q5)\n",
    "cities=[]\n",
    "city1= input('enter city')\n",
    "city2= input('enter city')\n",
    "city3= input('enter city')\n",
    "city4= input('enter city')\n",
    "cities.append([city1,city2])\n",
    "\n",
    "cities"
   ]
  },
  {
   "cell_type": "code",
   "execution_count": 12,
   "id": "ddfef694-9700-48eb-ab12-5424b8e07bcf",
   "metadata": {},
   "outputs": [
    {
     "name": "stdin",
     "output_type": "stream",
     "text": [
      "enter city hyd\n",
      "enter city pune\n",
      "enter city ben#galuru\n",
      "enter city mu#mbai\n"
     ]
    },
    {
     "data": {
      "text/plain": [
       "[['hyd', 'pune']]"
      ]
     },
     "execution_count": 12,
     "metadata": {},
     "output_type": "execute_result"
    }
   ],
   "source": [
    "# Q6)\n",
    "cities=[]\n",
    "city1= input('enter city')\n",
    "city2= input('enter city')\n",
    "city3= input('enter city')\n",
    "city4= input('enter city')\n",
    "cities.append([city1,city2])\n",
    "\n",
    "cities"
   ]
  },
  {
   "cell_type": "code",
   "execution_count": 30,
   "id": "7da2343f-f681-44b2-b782-19e410b3c5f3",
   "metadata": {},
   "outputs": [
    {
     "name": "stdin",
     "output_type": "stream",
     "text": [
      "enter greetings: hai how are you\n"
     ]
    },
    {
     "data": {
      "text/plain": [
       "['HAI', 'HOW', 'ARE', 'YOU']"
      ]
     },
     "execution_count": 30,
     "metadata": {},
     "output_type": "execute_result"
    }
   ],
   "source": [
    "# Q7) \n",
    "ni=input('enter greetings:')\n",
    "n1=ni.upper()\n",
    "n2=n1.split(' ')\n",
    "\n",
    "n2"
   ]
  },
  {
   "cell_type": "code",
   "execution_count": 125,
   "id": "310416e1-1516-4e54-a7d5-1c12d8ba1bef",
   "metadata": {},
   "outputs": [
    {
     "name": "stdin",
     "output_type": "stream",
     "text": [
      "enter email: virat.kohli@rcb.com\n",
      "enter email: rohit.sharma@mi.com\n",
      "enter email: ms.dhoni@csk.com\n"
     ]
    },
    {
     "name": "stdout",
     "output_type": "stream",
     "text": [
      "The first names are ['virat', 'rohit', 'ms']\n",
      "The second names are ['kohli', 'sharma', 'dhoni']\n",
      "The company names are ['rcb', 'mi', 'csk']\n"
     ]
    }
   ],
   "source": [
    "# Q8) \n",
    "\n",
    "fname=[]\n",
    "sname=[]\n",
    "cname=[]\n",
    "str1=input('enter email:')\n",
    "str2=input('enter email:')\n",
    "str3=input('enter email:')\n",
    "emails=[str1,str2,str3]\n",
    "for email in emails:\n",
    "    fnames=email.split('.')[0]\n",
    "    snames=email.split('.')[1].split('@')[0]\n",
    "    cnames=email.split('@')[1].split('.')[0]\n",
    "\n",
    "    fname.append(fnames)\n",
    "    sname.append(snames)\n",
    "    cname.append(cnames)\n",
    "\n",
    "print(f'The first names are {fname}')\n",
    "print(f'The second names are {sname}')\n",
    "print(f'The company names are {cname}')"
   ]
  },
  {
   "cell_type": "code",
   "execution_count": null,
   "id": "69d80b3e-7ec2-45a3-8359-1ebcf411c47b",
   "metadata": {},
   "outputs": [],
   "source": [
    "# method-2\n",
    "input='virat.kohil@rcb.com;rohit.sharma@mi.com;ms.dhoni@csk.com'\n",
    "l=input.split(';')\n",
    "fname=[]\n",
    "sname=[]\n",
    "cname=[]\n",
    "for i in l:\n",
    "    print(i)\n",
    "    id1=i.find('.')\n",
    "    id2=i.find('@')\n",
    "    id3=i.find('.',id1+1)\n",
    "    fname.append(i[:id1])\n",
    "    sname.append(i[id1+1:id2])\n",
    "    cname.append(i[id2+1:id3])\n",
    "\n",
    "fname,sname,cname"
   ]
  },
  {
   "cell_type": "code",
   "execution_count": 32,
   "id": "31de2b51-d151-41b1-9086-3bea6d4546b3",
   "metadata": {},
   "outputs": [
    {
     "data": {
      "text/plain": [
       "[[4, 3, 3, 1, 1, 1, 1]]"
      ]
     },
     "execution_count": 32,
     "metadata": {},
     "output_type": "execute_result"
    }
   ],
   "source": [
    "#Q9 word frequency problem, interview question\n",
    "si='can canner can you can not canner with you but you can the canner'\n",
    "gi=si.split()\n",
    "counter=[]\n",
    "l1=gi.count('can')\n",
    "l2=gi.count('canner')\n",
    "l3=gi.count('you')\n",
    "l4=gi.count('not')\n",
    "l5=gi.count('with')\n",
    "l6=gi.count('but')\n",
    "l7=gi.count('the')\n",
    "counter.append([l1,l2,l3,l4,l5,l6,l7])\n",
    "\n",
    "counter"
   ]
  },
  {
   "cell_type": "code",
   "execution_count": 8,
   "id": "5ec7263d-9672-43f6-a891-a49ae21485b4",
   "metadata": {},
   "outputs": [
    {
     "data": {
      "text/plain": [
       "['can:4', 'canner:3', 'you:3', 'not:1', 'with:1', 'but:1', 'the:1']"
      ]
     },
     "execution_count": 8,
     "metadata": {},
     "output_type": "execute_result"
    }
   ],
   "source": [
    "# method-2\n",
    "input='can canner can you can not canner with you but you can the canner'\n",
    "l=input.split()\n",
    "l1=[]\n",
    "counter=[]\n",
    "for i in l:\n",
    "    if i not in l1:\n",
    "        counter.append(f'{i}:{l.count(i)}')\n",
    "        l1.append(i)\n",
    "\n",
    "counter"
   ]
  },
  {
   "cell_type": "code",
   "execution_count": 18,
   "id": "08acb53b-9bb1-4bf2-bed2-eb789ce0be0c",
   "metadata": {},
   "outputs": [
    {
     "name": "stdout",
     "output_type": "stream",
     "text": [
      "['can', 'canner', 'can', 'can', 'canner', 'can', 'the', 'canner']\n"
     ]
    }
   ],
   "source": [
    "#Q10)\n",
    "stopwords=['not', 'you', 'but', 'with']\n",
    "si='can canner can you can not canner with you but you can the canner'\n",
    "\n",
    "gi=si.split()\n",
    "\n",
    "for i in stopwords:\n",
    "    while i in gi:\n",
    "        gi.remove(i)\n",
    "\n",
    "print(gi)"
   ]
  },
  {
   "cell_type": "code",
   "execution_count": 39,
   "id": "ac3a4e30-3861-4c9c-8bf6-013fc867511e",
   "metadata": {},
   "outputs": [
    {
     "data": {
      "text/plain": [
       "['can', 'canner', 'can', 'can', 'canner', 'can', 'the', 'canner']"
      ]
     },
     "execution_count": 39,
     "metadata": {},
     "output_type": "execute_result"
    }
   ],
   "source": [
    "# method-2\n",
    "input='can canner can you can not canner with you but you can the canner'\n",
    "l=input.split()\n",
    "stopwords=['not', 'you', 'but', 'with']\n",
    "output=[]\n",
    "for i in l:\n",
    "    if i not in stopwords:\n",
    "        output.append(i)\n",
    "\n",
    "output"
   ]
  },
  {
   "cell_type": "code",
   "execution_count": 66,
   "id": "321a0ea4-7f2e-4c70-b7e5-749fdb6fb08f",
   "metadata": {},
   "outputs": [
    {
     "name": "stdout",
     "output_type": "stream",
     "text": [
      "('can', 4)\n"
     ]
    }
   ],
   "source": [
    "#Q11) \n",
    "\n",
    "str1='can canner can you can not canner with you but you can the canner'\n",
    "words=str1.split()\n",
    "word_count=Counter(words)\n",
    "count=word_count.most_common(1)[0]\n",
    "print(count)"
   ]
  },
  {
   "cell_type": "code",
   "execution_count": 53,
   "id": "f045ed2e-19a4-4e4f-81c1-fdd5403db10b",
   "metadata": {},
   "outputs": [
    {
     "name": "stdout",
     "output_type": "stream",
     "text": [
      "elements : ['can', 'canner', 'you', 'not', 'with', 'but', 'the']\n",
      "count : [4, 3, 3, 1, 1, 1, 1]\n"
     ]
    }
   ],
   "source": [
    "# method-2\n",
    "input='can canner can you can not canner with you but you can the canner'\n",
    "l=input.split()\n",
    "l1=[]\n",
    "counter=[]\n",
    "elements=[]\n",
    "for i in l:\n",
    "    if i not in l1:\n",
    "        counter.append(l.count(i))\n",
    "        elements.append(i)\n",
    "        l1.append(i)\n",
    "\n",
    "print(f'elements : {elements}')\n",
    "print(f'count : {counter}')"
   ]
  },
  {
   "cell_type": "code",
   "execution_count": null,
   "id": "a832ecb8-22ec-4e24-a8b7-a5e5c7cac7cb",
   "metadata": {},
   "outputs": [],
   "source": [
    "# Q11) take a string find the most repeated word from string\n",
    "\n",
    "# Q12) take a string find the longest length of the word from string\n",
    "\n",
    "# Q13) take a string find the lowest length of the word from string\n",
    "\n",
    "# Q14) you have some qns list is there\n",
    "#      also you have answers list also there\n",
    "#     qns=['who is PM of india',\n",
    "#       'what is the capital of india', who is ICT MENS captain]\n",
    "#    ans=['Modi','Delhi','Rohit']\n",
    "#    whenerver correct answer marks +10\n",
    "#    print you got total"
   ]
  },
  {
   "cell_type": "code",
   "execution_count": null,
   "id": "4d2b7805-930e-45ed-9bcd-2c1549e44d28",
   "metadata": {},
   "outputs": [],
   "source": []
  },
  {
   "cell_type": "code",
   "execution_count": null,
   "id": "8f1e4a5a-e784-49cf-8b31-0ec1dd180541",
   "metadata": {},
   "outputs": [],
   "source": []
  },
  {
   "cell_type": "code",
   "execution_count": null,
   "id": "8bfa8883-8904-4a1a-b18f-b5140d9b8916",
   "metadata": {},
   "outputs": [],
   "source": []
  }
 ],
 "metadata": {
  "kernelspec": {
   "display_name": "Python [conda env:base] *",
   "language": "python",
   "name": "conda-base-py"
  },
  "language_info": {
   "codemirror_mode": {
    "name": "ipython",
    "version": 3
   },
   "file_extension": ".py",
   "mimetype": "text/x-python",
   "name": "python",
   "nbconvert_exporter": "python",
   "pygments_lexer": "ipython3",
   "version": "3.12.7"
  }
 },
 "nbformat": 4,
 "nbformat_minor": 5
}
