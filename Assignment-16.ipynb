{
 "cells": [
  {
   "cell_type": "code",
   "execution_count": 38,
   "id": "d8fcfc5b-f3dd-4dff-80b0-f73e71b8a0ed",
   "metadata": {},
   "outputs": [
    {
     "name": "stdout",
     "output_type": "stream",
     "text": [
      "200\n"
     ]
    }
   ],
   "source": [
    "# Q2)find the max value without max function\n",
    "list1=[10,20,2,5,75]\n",
    "def max_value(lst):\n",
    "    max_value=lst[0]\n",
    "    for num in lst:\n",
    "        if num>max_value:\n",
    "            max_value=num\n",
    "    return max_value\n",
    "lst=[10,120,200,5,74]\n",
    "print(max_value(lst))"
   ]
  },
  {
   "cell_type": "code",
   "execution_count": 36,
   "id": "edf21911-6d84-4cb1-a023-c1074ac1e731",
   "metadata": {},
   "outputs": [
    {
     "name": "stdout",
     "output_type": "stream",
     "text": [
      "2\n"
     ]
    }
   ],
   "source": [
    "# Q3)find the min value without min function \n",
    "def min_value(list1):\n",
    "    min_value=list1[0]\n",
    "    for num in list1:\n",
    "        if num<min_value:\n",
    "            min_value=num\n",
    "    return min_value\n",
    "list1=[10,120,2,5,75]\n",
    "print(min_value(list1))"
   ]
  },
  {
   "cell_type": "code",
   "execution_count": 69,
   "id": "bc3d7a80-9b5e-466f-888f-a4412d01121f",
   "metadata": {},
   "outputs": [
    {
     "data": {
      "text/plain": [
       "[75, 5, 2, 120, 10]"
      ]
     },
     "execution_count": 69,
     "metadata": {},
     "output_type": "execute_result"
    }
   ],
   "source": [
    "# Q4)reversed the elemnts without reversed function\n",
    "list1=[10,120,2,5,75]\n",
    "list1[::-1]"
   ]
  },
  {
   "cell_type": "code",
   "execution_count": 79,
   "id": "fde0c364-4fee-4bbd-9c5b-92f068d8d117",
   "metadata": {},
   "outputs": [
    {
     "name": "stdout",
     "output_type": "stream",
     "text": [
      "648\n"
     ]
    }
   ],
   "source": [
    "# Q5)sum the elements with out using sum funtion\n",
    "list1=[120,4,30,100,394,0]\n",
    "total=0\n",
    "for numm in list1:\n",
    "    total=total+numm\n",
    "print(total)"
   ]
  },
  {
   "cell_type": "code",
   "execution_count": 34,
   "id": "23800c3c-8d3a-4615-9880-4b87c1ff70ae",
   "metadata": {},
   "outputs": [
    {
     "name": "stdout",
     "output_type": "stream",
     "text": [
      "[2, 5, 10, 75, 120]\n",
      "\n",
      "5 75\n"
     ]
    }
   ],
   "source": [
    "# Q6)find the second min and second max\n",
    "def listt_sorted():\n",
    "    list1_sorted=sorted(list1)\n",
    "    sorted(list1)\n",
    "    second_min=list1_sorted[1]\n",
    "    second_max=list1_sorted[-2]\n",
    "    return\n",
    "list1=[10,2,5,120,75]\n",
    "print(list1_sorted)\n",
    "print()\n",
    "print(second_min,second_max)"
   ]
  }
 ],
 "metadata": {
  "kernelspec": {
   "display_name": "Python [conda env:base] *",
   "language": "python",
   "name": "conda-base-py"
  },
  "language_info": {
   "codemirror_mode": {
    "name": "ipython",
    "version": 3
   },
   "file_extension": ".py",
   "mimetype": "text/x-python",
   "name": "python",
   "nbconvert_exporter": "python",
   "pygments_lexer": "ipython3",
   "version": "3.12.7"
  }
 },
 "nbformat": 4,
 "nbformat_minor": 5
}
