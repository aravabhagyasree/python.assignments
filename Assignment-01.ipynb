{
 "cells": [
  {
   "cell_type": "code",
   "execution_count": null,
   "id": "348f8f9a-b820-462c-be8d-9f26e9e64c7c",
   "metadata": {},
   "outputs": [],
   "source": [
    "# # wap take the radious of a circle calculate area of the circle \n",
    "# # var: radious var pi=3.142 \n",
    "# # formaul: pi*radius*radious\n",
    "# # print the ans using f string and formate\n",
    "\n",
    "\n",
    "# wap take the breadth and height of a right angle triangle\n",
    "# calculate the area \n",
    "# var1: breadth var2: height\n",
    "# formule: 0.5*breadth*height\n",
    "\n",
    "\n",
    "# wap take the bill amoout and tip amount\n",
    "# calculate total bill v\n",
    "# var1: bill amount var2:tip amount\n",
    "# formule\n",
    "\n",
    "\n",
    "# wap take the lenght and breadth of a rectangle calculate area \n",
    "# var1:lenght var2:breadth\n",
    "# formula: lenght*breadth\n"
   ]
  },
  {
   "cell_type": "code",
   "execution_count": null,
   "id": "c005c068-3869-4237-972e-edc3596ba423",
   "metadata": {},
   "outputs": [],
   "source": []
  },
  {
   "cell_type": "markdown",
   "id": "20bbd9d9-b95b-4a06-9f2f-38e0fec2d4e5",
   "metadata": {},
   "source": [
    "**PROBLEM_01**"
   ]
  },
  {
   "cell_type": "code",
   "execution_count": null,
   "id": "87e63e0c-9ec3-48e8-bd68-d9c94d6c181c",
   "metadata": {},
   "outputs": [],
   "source": [
    "# problem 1\n",
    "# lets take radius = 5\n",
    "# pi = 3.142"
   ]
  },
  {
   "cell_type": "code",
   "execution_count": 27,
   "id": "d851d042-3e83-46b4-914e-1aa9730c2f49",
   "metadata": {},
   "outputs": [
    {
     "name": "stdout",
     "output_type": "stream",
     "text": [
      "79\n",
      "The area of circle with radius 5 and pi 3.142 will be 79.\n",
      "The area of circle with radius 5 and pi 3.142 will be 79.\n"
     ]
    }
   ],
   "source": [
    "rad = 5\n",
    "pi = 3.142\n",
    "area_of_circle =round(pi*rad*rad)\n",
    "print(area_of_circle)\n",
    "print(f\"The area of circle with radius {rad} and pi {pi} will be {area_of_circle}.\")\n",
    "print(\"The area of circle with radius {} and pi {} will be {}.\".format(rad,pi,area_of_circle))"
   ]
  },
  {
   "cell_type": "code",
   "execution_count": null,
   "id": "a5de539b-063a-444d-8028-36f4822c378c",
   "metadata": {},
   "outputs": [],
   "source": []
  },
  {
   "cell_type": "markdown",
   "id": "00be8dec-2fc2-4f49-a211-62e78f67c6ca",
   "metadata": {},
   "source": [
    "**PROBLEM_02**"
   ]
  },
  {
   "cell_type": "code",
   "execution_count": null,
   "id": "e88d892a-955c-4f63-9a08-970438191e27",
   "metadata": {},
   "outputs": [],
   "source": [
    "# problem 2\n",
    "# let breadth of the right angle triangl be: 5\n",
    "# let height of the right angle triangl be: 10"
   ]
  },
  {
   "cell_type": "code",
   "execution_count": 45,
   "id": "405b27e0-56ed-453a-875e-0589977f4921",
   "metadata": {},
   "outputs": [
    {
     "name": "stdout",
     "output_type": "stream",
     "text": [
      "25\n",
      "The area of right angle triangle with breadth 5 and height 10 is 25\n",
      "The area of right angle triangle with breadth 5 and height 10 is 25\n"
     ]
    }
   ],
   "source": [
    "bre = 5\n",
    "hei = 10\n",
    "area_of_rt = round(0.5*bre*hei)\n",
    "print(area_of_rt)\n",
    "print(f\"The area of right angle triangle with breadth {bre} and height {hei} is {area_of_rt}\")\n",
    "print(\"The area of right angle triangle with breadth {} and height {} is {}\".format(bre,hei,area_of_rt))"
   ]
  },
  {
   "cell_type": "code",
   "execution_count": null,
   "id": "1bb208fb-ca83-4e75-9d4c-16c612edf1e2",
   "metadata": {},
   "outputs": [],
   "source": []
  },
  {
   "cell_type": "markdown",
   "id": "e14b14e0-40e8-445b-9df8-428495679916",
   "metadata": {},
   "source": [
    "**PROBLEM_03**"
   ]
  },
  {
   "cell_type": "code",
   "execution_count": null,
   "id": "d1596f14-025a-4e95-b20b-244eda813078",
   "metadata": {},
   "outputs": [],
   "source": [
    "# problem 3\n",
    "# take bill amout as 203.72 \n",
    "# tip amount as 0.9"
   ]
  },
  {
   "cell_type": "code",
   "execution_count": 53,
   "id": "296741b8-32e9-46d6-8e05-9e3f865e36fe",
   "metadata": {},
   "outputs": [
    {
     "name": "stdout",
     "output_type": "stream",
     "text": [
      "204.62\n",
      "The bill amount is 203.72 and tip is 0.9 then total bill 204.62\n",
      "The bill amount is 203.72 and tip is 0.9 then total bill 204.62\n"
     ]
    }
   ],
   "source": [
    "bill=203.72\n",
    "tip=0.9\n",
    "total_bill=bill+tip\n",
    "print(total_bill)\n",
    "print(\"The bill amount is {} and tip is {} then total bill {}\".format(bill,tip,total_bill))\n",
    "print(f\"The bill amount is {bill} and tip is {tip} then total bill {total_bill}\")"
   ]
  },
  {
   "cell_type": "code",
   "execution_count": null,
   "id": "6b6fda87-1261-480d-996c-9622e8086fce",
   "metadata": {},
   "outputs": [],
   "source": []
  },
  {
   "cell_type": "markdown",
   "id": "824baf94-f31f-41b0-b263-c94b4dbf0cb4",
   "metadata": {},
   "source": [
    "**PROBLEM_04**"
   ]
  },
  {
   "cell_type": "code",
   "execution_count": null,
   "id": "e0d66761-38bd-4989-9946-e1820a79fae0",
   "metadata": {},
   "outputs": [],
   "source": [
    "# problem 4\n",
    "# l=5\n",
    "# b=10"
   ]
  },
  {
   "cell_type": "code",
   "execution_count": 63,
   "id": "e60410c2-6f44-4376-90c4-3ac6b11edfc9",
   "metadata": {},
   "outputs": [
    {
     "name": "stdout",
     "output_type": "stream",
     "text": [
      "50\n",
      "The area of rectangle with length 5 and breadth 10 is 50\n",
      "The area of rectangle with length 5 and breadth 10 is 50\n"
     ]
    }
   ],
   "source": [
    "l=5\n",
    "b=10\n",
    "area_of_rectangle=l*b\n",
    "print(area_of_rectangle)\n",
    "print(\"The area of rectangle with length {} and breadth {} is {}\".format(l,b,area_of_rectangle))\n",
    "print(f\"The area of rectangle with length {l} and breadth {b} is {area_of_rectangle}\")"
   ]
  }
 ],
 "metadata": {
  "kernelspec": {
   "display_name": "Python [conda env:base] *",
   "language": "python",
   "name": "conda-base-py"
  },
  "language_info": {
   "codemirror_mode": {
    "name": "ipython",
    "version": 3
   },
   "file_extension": ".py",
   "mimetype": "text/x-python",
   "name": "python",
   "nbconvert_exporter": "python",
   "pygments_lexer": "ipython3",
   "version": "3.12.7"
  }
 },
 "nbformat": 4,
 "nbformat_minor": 5
}
