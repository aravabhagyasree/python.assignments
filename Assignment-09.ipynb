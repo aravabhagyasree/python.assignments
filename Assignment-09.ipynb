{
 "cells": [
  {
   "cell_type": "code",
   "execution_count": 3,
   "id": "8ca3d055-fbe6-486c-a033-a307ed638246",
   "metadata": {},
   "outputs": [
    {
     "name": "stdout",
     "output_type": "stream",
     "text": [
      "1\n",
      "4\n",
      "9\n",
      "16\n",
      "25\n"
     ]
    }
   ],
   "source": [
    "i=1\n",
    "while i<=5:\n",
    "    print(i*i)\n",
    "    i=i+1"
   ]
  },
  {
   "cell_type": "code",
   "execution_count": 5,
   "id": "a34d5eef-d44e-4faf-b977-369550070766",
   "metadata": {},
   "outputs": [
    {
     "name": "stdout",
     "output_type": "stream",
     "text": [
      "just do it\n",
      "just do it\n",
      "just do it\n",
      "just do it\n",
      "just do it\n"
     ]
    }
   ],
   "source": [
    "i=1\n",
    "while i<=5:\n",
    "    print(\"just do it\")\n",
    "    i=i+1"
   ]
  },
  {
   "cell_type": "code",
   "execution_count": 13,
   "id": "148eb202-70c1-4d81-b465-fc638fb2af25",
   "metadata": {},
   "outputs": [
    {
     "name": "stdin",
     "output_type": "stream",
     "text": [
      "enter the table number: 5\n"
     ]
    },
    {
     "name": "stdout",
     "output_type": "stream",
     "text": [
      "5x1=5\n",
      "5x2=10\n",
      "5x3=15\n",
      "5x4=20\n",
      "5x5=25\n",
      "5x6=30\n",
      "5x7=35\n",
      "5x8=40\n",
      "5x9=45\n",
      "5x10=50\n"
     ]
    }
   ],
   "source": [
    "i=1\n",
    "num=eval(input('enter the table number:'))\n",
    "while i<=10:\n",
    "    print(f'{num}x{i}={num*i}')\n",
    "    i=i+1"
   ]
  },
  {
   "cell_type": "code",
   "execution_count": 13,
   "id": "c9b44a6e-67b5-49d6-ac4e-5d6e14d95402",
   "metadata": {},
   "outputs": [
    {
     "name": "stdin",
     "output_type": "stream",
     "text": [
      "which number divisior you want: 75\n"
     ]
    },
    {
     "name": "stdout",
     "output_type": "stream",
     "text": [
      "1 is a divisor of 75.\n",
      "3 is a divisor of 75.\n",
      "5 is a divisor of 75.\n",
      "15 is a divisor of 75.\n",
      "25 is a divisor of 75.\n",
      "75 is a divisor of 75.\n"
     ]
    }
   ],
   "source": [
    "i=1\n",
    "num=eval(input('which number divisior you want:'))\n",
    "while i<=num:\n",
    "    if num%i== 0:\n",
    "        print(f'{i} is a divisor of {num}.')\n",
    "    i=i+1"
   ]
  },
  {
   "cell_type": "code",
   "execution_count": 37,
   "id": "4f97ffae-80f6-41aa-b826-0e4f0dd016a1",
   "metadata": {},
   "outputs": [
    {
     "name": "stdout",
     "output_type": "stream",
     "text": [
      "1\n",
      "3\n",
      "6\n",
      "10\n",
      "15\n",
      "21\n",
      "28\n",
      "36\n",
      "45\n",
      "55\n"
     ]
    }
   ],
   "source": [
    "i=1\n",
    "summ=0\n",
    "while i<=10:\n",
    "    summ=int(i*(i+1)/2)\n",
    "    print(summ)\n",
    "    i=i+1"
   ]
  },
  {
   "cell_type": "code",
   "execution_count": 3,
   "id": "97e8c58e-0275-4932-9290-e144655ab75f",
   "metadata": {
    "scrolled": true
   },
   "outputs": [
    {
     "name": "stdin",
     "output_type": "stream",
     "text": [
      "enter any number 75\n"
     ]
    },
    {
     "name": "stdout",
     "output_type": "stream",
     "text": [
      "1\n",
      "3\n",
      "5\n",
      "15\n",
      "25\n",
      "75\n"
     ]
    },
    {
     "data": {
      "text/plain": [
       "124"
      ]
     },
     "execution_count": 3,
     "metadata": {},
     "output_type": "execute_result"
    }
   ],
   "source": [
    "i=1\n",
    "sum1=0\n",
    "num=eval(input('enter any number'))\n",
    "while i<=num:\n",
    "    if num%i==0:\n",
    "        print(i)\n",
    "        sum1=sum1+i\n",
    "    i=i+1\n",
    "sum1"
   ]
  },
  {
   "cell_type": "code",
   "execution_count": 5,
   "id": "8e2ccc30-488b-49d8-a58c-0f46efa7bf72",
   "metadata": {},
   "outputs": [
    {
     "name": "stdin",
     "output_type": "stream",
     "text": [
      "enter the number 75\n"
     ]
    },
    {
     "name": "stdout",
     "output_type": "stream",
     "text": [
      "1\n",
      "3\n",
      "5\n",
      "15\n",
      "25\n",
      "75\n"
     ]
    },
    {
     "data": {
      "text/plain": [
       "6"
      ]
     },
     "execution_count": 5,
     "metadata": {},
     "output_type": "execute_result"
    }
   ],
   "source": [
    "i=1\n",
    "count=0\n",
    "num=eval(input(\"enter the number\"))\n",
    "while i<=num:\n",
    "    if num%i==0:\n",
    "        print(i)\n",
    "        count=count+1\n",
    "    i=i+1\n",
    "count"
   ]
  },
  {
   "cell_type": "code",
   "execution_count": 15,
   "id": "46672d9f-320f-41ee-9b51-dd3bdf1d2bb1",
   "metadata": {},
   "outputs": [
    {
     "name": "stdout",
     "output_type": "stream",
     "text": [
      "11 is odd\n",
      "92 is even\n",
      "93 is odd\n",
      "28 is even\n",
      "29 is odd\n",
      "2\n",
      "3\n",
      "120\n",
      "133\n"
     ]
    }
   ],
   "source": [
    "import random\n",
    "even_count,odd_count=0,0\n",
    "even_sum,odd_sum=0,0\n",
    "i=1\n",
    "while i<=5:\n",
    "    numb=random.randint(1,100)\n",
    "    if numb%2==0:\n",
    "        print(f\"{numb} is even\")\n",
    "        even_count=even_count+1\n",
    "        even_sum=even_sum+numb\n",
    "    else:\n",
    "        print(f\"{numb} is odd\")\n",
    "        odd_count=odd_count+1\n",
    "        odd_sum=odd_sum+numb\n",
    "    i=i+1\n",
    "\n",
    "print(even_count)\n",
    "print(odd_count)\n",
    "print(even_sum)\n",
    "print(odd_sum)"
   ]
  },
  {
   "cell_type": "code",
   "execution_count": 9,
   "id": "2820dbb4-2407-4301-b25e-59bd293e004e",
   "metadata": {},
   "outputs": [
    {
     "name": "stdout",
     "output_type": "stream",
     "text": [
      "2\n"
     ]
    },
    {
     "name": "stdin",
     "output_type": "stream",
     "text": [
      "enter any number 2\n"
     ]
    },
    {
     "name": "stdout",
     "output_type": "stream",
     "text": [
      "won\n"
     ]
    }
   ],
   "source": [
    "import random\n",
    "i=1\n",
    "while i<=3:\n",
    "    n1=random.randint(1,10)\n",
    "    print(n1)\n",
    "    n2=eval(input('enter any number'))\n",
    "    if n1==n2:\n",
    "        print('won')\n",
    "        break\n",
    "    else:\n",
    "        print('lost')\n",
    "    i=i+1"
   ]
  },
  {
   "cell_type": "code",
   "execution_count": 45,
   "id": "9a7bf7ff-3503-4e47-a905-439b4170aa62",
   "metadata": {},
   "outputs": [
    {
     "name": "stdout",
     "output_type": "stream",
     "text": [
      "10\n"
     ]
    },
    {
     "name": "stdin",
     "output_type": "stream",
     "text": [
      "enter a number 3\n"
     ]
    },
    {
     "name": "stdout",
     "output_type": "stream",
     "text": [
      "BETTER LUCK NEXT TIME & CHANCES LEFT: 2\n",
      "\n",
      "3\n"
     ]
    },
    {
     "name": "stdin",
     "output_type": "stream",
     "text": [
      "enter a number 2\n"
     ]
    },
    {
     "name": "stdout",
     "output_type": "stream",
     "text": [
      "BETTER LUCK NEXT TIME & CHANCES LEFT: 1\n",
      "\n",
      "5\n"
     ]
    },
    {
     "name": "stdin",
     "output_type": "stream",
     "text": [
      "enter a number 2\n"
     ]
    },
    {
     "name": "stdout",
     "output_type": "stream",
     "text": [
      "BETTER LUCK NEXT TIME & CHANCES LEFT: 0\n",
      "\n"
     ]
    }
   ],
   "source": [
    "import random\n",
    "i=1\n",
    "while i<=3:\n",
    "    n1=random.randint(1,10)\n",
    "    print(n1)\n",
    "    n2=eval(input('enter a number'))\n",
    "    if n1==n2:\n",
    "        print('\" YOU WON \"')\n",
    "        break\n",
    "    else:\n",
    "        print(f'BETTER LUCK NEXT TIME & CHANCES LEFT: {3-i}')\n",
    "        print()\n",
    "    i=i+1"
   ]
  },
  {
   "cell_type": "code",
   "execution_count": 49,
   "id": "8c3ac035-01fe-45aa-aa55-252de06d8c5f",
   "metadata": {},
   "outputs": [
    {
     "name": "stdout",
     "output_type": "stream",
     "text": [
      "5\n"
     ]
    },
    {
     "name": "stdin",
     "output_type": "stream",
     "text": [
      "enter a number 2\n"
     ]
    },
    {
     "name": "stdout",
     "output_type": "stream",
     "text": [
      "BETTER LUCK NEXT TIME & CHANCES LEFT: 2\n",
      "\n",
      "5\n"
     ]
    },
    {
     "name": "stdin",
     "output_type": "stream",
     "text": [
      "enter a number 2\n"
     ]
    },
    {
     "name": "stdout",
     "output_type": "stream",
     "text": [
      "BETTER LUCK NEXT TIME & CHANCES LEFT: 1\n",
      "\n",
      "2\n"
     ]
    },
    {
     "name": "stdin",
     "output_type": "stream",
     "text": [
      "enter a number 3\n"
     ]
    },
    {
     "name": "stdout",
     "output_type": "stream",
     "text": [
      "TRY AFTER 24 HOURS\n"
     ]
    }
   ],
   "source": [
    "import random\n",
    "i=1\n",
    "while i<=3:\n",
    "    n1=random.randint(1,10)\n",
    "    print(n1)\n",
    "    n2=eval(input('enter a number'))\n",
    "    if n1==n2:\n",
    "        print('\" YOU WON \"')\n",
    "        break\n",
    "    elif 3-i==0:\n",
    "        print('TRY AFTER 24 HOURS')\n",
    "    else:\n",
    "        print(f'BETTER LUCK NEXT TIME & CHANCES LEFT: {3-i}')\n",
    "        print()\n",
    "    i=i+1"
   ]
  }
 ],
 "metadata": {
  "kernelspec": {
   "display_name": "Python [conda env:base] *",
   "language": "python",
   "name": "conda-base-py"
  },
  "language_info": {
   "codemirror_mode": {
    "name": "ipython",
    "version": 3
   },
   "file_extension": ".py",
   "mimetype": "text/x-python",
   "name": "python",
   "nbconvert_exporter": "python",
   "pygments_lexer": "ipython3",
   "version": "3.12.7"
  }
 },
 "nbformat": 4,
 "nbformat_minor": 5
}
