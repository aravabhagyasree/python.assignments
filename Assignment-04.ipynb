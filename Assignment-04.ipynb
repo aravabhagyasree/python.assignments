{
 "cells": [
  {
   "cell_type": "markdown",
   "id": "90c92941-8e9a-485c-b2f3-3b9e6a234c9e",
   "metadata": {},
   "source": [
    "Q1\n",
    "-"
   ]
  },
  {
   "cell_type": "code",
   "execution_count": 69,
   "id": "0ed2b33a-f283-40c6-a29c-4d994010b84e",
   "metadata": {},
   "outputs": [
    {
     "name": "stdin",
     "output_type": "stream",
     "text": [
      "enter any number n1: 9\n",
      "enter any number n2: hi\n"
     ]
    },
    {
     "name": "stdout",
     "output_type": "stream",
     "text": [
      "invalid\n"
     ]
    }
   ],
   "source": [
    "try:\n",
    "    n1=int(input('enter any number n1:'))\n",
    "    n2=int(input('enter any number n2:'))\n",
    "    if n1==n2:\n",
    "        print('Won')\n",
    "    else:\n",
    "        print('loss')\n",
    "except:\n",
    "    print(\"invalid\")"
   ]
  },
  {
   "cell_type": "markdown",
   "id": "e78c3c66-6ca1-42d9-af5b-fa58b849cc12",
   "metadata": {},
   "source": [
    "Q2\n",
    "-"
   ]
  },
  {
   "cell_type": "code",
   "execution_count": 76,
   "id": "fc9bd1d6-3ff3-4f4d-9847-b9e0564b3e19",
   "metadata": {},
   "outputs": [
    {
     "name": "stdin",
     "output_type": "stream",
     "text": [
      "enter any number hi\n"
     ]
    },
    {
     "name": "stdout",
     "output_type": "stream",
     "text": [
      "invalid\n"
     ]
    }
   ],
   "source": [
    "import random\n",
    "try:\n",
    "    v1=int(input('enter any number'))\n",
    "    v2=random.randint(1,10)\n",
    "    if v1==v2:\n",
    "        print('we won')\n",
    "    else:\n",
    "        print('we lost')\n",
    "except:\n",
    "    print('invalid')"
   ]
  },
  {
   "cell_type": "markdown",
   "id": "0e7ff4ec-83db-45d4-af6b-e2e8f4df8ec1",
   "metadata": {},
   "source": [
    "Q3\n",
    "-"
   ]
  },
  {
   "cell_type": "code",
   "execution_count": 185,
   "id": "05367de2-9e32-4db0-b86e-ec532b86b747",
   "metadata": {},
   "outputs": [
    {
     "name": "stdin",
     "output_type": "stream",
     "text": [
      "enter any number ji\n"
     ]
    },
    {
     "name": "stdout",
     "output_type": "stream",
     "text": [
      "the given number is invalid\n"
     ]
    }
   ],
   "source": [
    "try:\n",
    "    b1=eval(input('enter any number'))\n",
    "    if b1%2==0:\n",
    "        print(\"the given number is even\")\n",
    "    else:\n",
    "        print(\"the given number is odd\")\n",
    "except:\n",
    "    print('the given number is invalid')"
   ]
  },
  {
   "cell_type": "markdown",
   "id": "7485520d-a7d9-452c-9874-8d708d8f4a80",
   "metadata": {},
   "source": [
    "Q4\n",
    "-"
   ]
  },
  {
   "cell_type": "code",
   "execution_count": 183,
   "id": "b8a68b7b-0c41-4635-a0f7-e8ae3417a2c2",
   "metadata": {},
   "outputs": [
    {
     "name": "stdin",
     "output_type": "stream",
     "text": [
      "enter the distance ji\n"
     ]
    },
    {
     "name": "stdout",
     "output_type": "stream",
     "text": [
      "invalid\n"
     ]
    }
   ],
   "source": [
    "try:\n",
    "    d1=eval(input('enter the distance'))\n",
    "    if d1>=25:\n",
    "        ex=d1-25\n",
    "        print(\"the extra distance =\",ex)\n",
    "        tot=ex*5\n",
    "        print(f\"the total charge for {ex} extra kms is {tot}.\")\n",
    "    else:\n",
    "        print('free ride')\n",
    "except:\n",
    "    print('invalid')"
   ]
  },
  {
   "cell_type": "markdown",
   "id": "3867ce75-c89d-4a77-bd68-3e369dfe9cfd",
   "metadata": {},
   "source": [
    "Q5\n",
    "-"
   ]
  },
  {
   "cell_type": "code",
   "execution_count": 181,
   "id": "c9bb86d6-9136-4ac7-a014-dd4eb29c78ee",
   "metadata": {},
   "outputs": [
    {
     "name": "stdin",
     "output_type": "stream",
     "text": [
      "enter any number h1: ji\n"
     ]
    },
    {
     "name": "stdout",
     "output_type": "stream",
     "text": [
      "enter a valid numbers\n"
     ]
    }
   ],
   "source": [
    "try:\n",
    "    h1=eval(input(\"enter any number h1:\"))\n",
    "    h2=eval(input(\"enter any number h2:\"))\n",
    "    if h1>=h2:\n",
    "        print(\"greater than\")\n",
    "    else:\n",
    "        print(f\"{h1} less than {h2}\")\n",
    "except:\n",
    "    print('enter a valid numbers')"
   ]
  },
  {
   "cell_type": "markdown",
   "id": "d20e8664-984c-4b06-ab29-bdb047479e7a",
   "metadata": {},
   "source": [
    "Q6\n",
    "-"
   ]
  },
  {
   "cell_type": "code",
   "execution_count": 250,
   "id": "05fbcfc9-144a-437b-819f-9ea9a990c060",
   "metadata": {},
   "outputs": [
    {
     "name": "stdin",
     "output_type": "stream",
     "text": [
      "enter course name ji\n",
      "year = \n"
     ]
    },
    {
     "name": "stdout",
     "output_type": "stream",
     "text": [
      "wasted invalid literal for int() with base 10: ''\n"
     ]
    }
   ],
   "source": [
    "try:\n",
    "    cn=input(\"enter course name\")\n",
    "    ye=int(input(\"year =\"))\n",
    "    if cn==\"ds\" and ye==2025:\n",
    "        print(\"safe place\")\n",
    "    else:\n",
    "        print('katam zindagi')\n",
    "except Exception as e:\n",
    "    print('wasted',e)"
   ]
  }
 ],
 "metadata": {
  "kernelspec": {
   "display_name": "Python [conda env:base] *",
   "language": "python",
   "name": "conda-base-py"
  },
  "language_info": {
   "codemirror_mode": {
    "name": "ipython",
    "version": 3
   },
   "file_extension": ".py",
   "mimetype": "text/x-python",
   "name": "python",
   "nbconvert_exporter": "python",
   "pygments_lexer": "ipython3",
   "version": "3.12.7"
  }
 },
 "nbformat": 4,
 "nbformat_minor": 5
}
