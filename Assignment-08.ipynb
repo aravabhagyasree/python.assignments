{
 "cells": [
  {
   "cell_type": "code",
   "execution_count": 8,
   "id": "2969db84-ab35-4c4c-94a2-00cdb5084435",
   "metadata": {},
   "outputs": [
    {
     "name": "stdout",
     "output_type": "stream",
     "text": [
      "20.0\n"
     ]
    }
   ],
   "source": [
    "def avgg(n1,n2,n3):\n",
    "    avg=(n1+n2+n3)/3\n",
    "    print(avg)\n",
    "\n",
    "avgg(10,20,30)"
   ]
  },
  {
   "cell_type": "code",
   "execution_count": 10,
   "id": "f4166162-a050-4afd-a4f2-f23ef2a4e6fa",
   "metadata": {},
   "outputs": [
    {
     "name": "stdout",
     "output_type": "stream",
     "text": [
      "my name is pyhton age 10 and from hyd\n"
     ]
    }
   ],
   "source": [
    "def intro(name,age,city):\n",
    "    print(f'my name is {name} age {age} and from {city}')\n",
    "\n",
    "intro(\"pyhton\",10,\"hyd\")"
   ]
  },
  {
   "cell_type": "code",
   "execution_count": 12,
   "id": "e510baf7-d02b-45c3-8fb7-cfbfabd8e006",
   "metadata": {},
   "outputs": [
    {
     "name": "stdout",
     "output_type": "stream",
     "text": [
      "1256.0\n"
     ]
    }
   ],
   "source": [
    "def radd(rad):\n",
    "    pi=3.14\n",
    "    area=pi*rad*rad\n",
    "    print(area)\n",
    "\n",
    "radd(20)"
   ]
  },
  {
   "cell_type": "code",
   "execution_count": 16,
   "id": "d2f17587-7b30-45d1-bb64-d56ace44fe05",
   "metadata": {},
   "outputs": [
    {
     "name": "stdout",
     "output_type": "stream",
     "text": [
      "495.0\n"
     ]
    }
   ],
   "source": [
    "def tri(bre,hei):\n",
    "    arear=0.5*bre*hei\n",
    "    print(arear)\n",
    "\n",
    "tri(18,55)"
   ]
  },
  {
   "cell_type": "code",
   "execution_count": 18,
   "id": "d672fb44-45f6-462c-a427-1b1d5d08f9a0",
   "metadata": {},
   "outputs": [
    {
     "name": "stdout",
     "output_type": "stream",
     "text": [
      "1030\n"
     ]
    }
   ],
   "source": [
    "def bill(am,tip):\n",
    "    tot=am+tip\n",
    "    print(tot)\n",
    "\n",
    "bill(1000,30)"
   ]
  },
  {
   "cell_type": "code",
   "execution_count": 20,
   "id": "d8c50b1a-55e3-438d-bd85-8777a2fad05f",
   "metadata": {},
   "outputs": [
    {
     "name": "stdout",
     "output_type": "stream",
     "text": [
      "1100.0\n"
     ]
    }
   ],
   "source": [
    "def bill1(amm,tipp):\n",
    "    tob=amm+(amm*10/100)\n",
    "    print(tob)\n",
    "\n",
    "bill1(1000,10)"
   ]
  },
  {
   "cell_type": "code",
   "execution_count": 22,
   "id": "94ce6ea1-69d2-4c36-b971-a0c5fbdd4032",
   "metadata": {},
   "outputs": [
    {
     "name": "stdout",
     "output_type": "stream",
     "text": [
      "64092\n"
     ]
    }
   ],
   "source": [
    "def rectt(bree,heii):\n",
    "    areee=bree*heii\n",
    "    print(areee)\n",
    "\n",
    "rectt(109,588)"
   ]
  },
  {
   "cell_type": "code",
   "execution_count": 24,
   "id": "839f7706-71f1-4db7-b939-0cfd4acba799",
   "metadata": {},
   "outputs": [
    {
     "name": "stdout",
     "output_type": "stream",
     "text": [
      "172298.08000000002\n"
     ]
    }
   ],
   "source": [
    "def radiu(rads):\n",
    "    pi=3.14\n",
    "    vol=rads*rads*rads*pi\n",
    "    print(vol)\n",
    "\n",
    "radiu(38)"
   ]
  },
  {
   "cell_type": "code",
   "execution_count": 26,
   "id": "564a5c0d-3c14-4ca5-aed3-79e7a66c9273",
   "metadata": {},
   "outputs": [
    {
     "name": "stdout",
     "output_type": "stream",
     "text": [
      "255\n"
     ]
    }
   ],
   "source": [
    "def doll(do):\n",
    "    rue=85*do\n",
    "    print(rue)\n",
    "\n",
    "doll(3)"
   ]
  },
  {
   "cell_type": "code",
   "execution_count": 28,
   "id": "ead0542b-d4c7-4a07-8b95-360d01310e59",
   "metadata": {},
   "outputs": [
    {
     "name": "stdout",
     "output_type": "stream",
     "text": [
      "85.80000000000001\n"
     ]
    }
   ],
   "source": [
    "def wei(kg):\n",
    "    kgs=2.2*kg\n",
    "    print(kgs)\n",
    "\n",
    "wei(39)"
   ]
  },
  {
   "cell_type": "code",
   "execution_count": null,
   "id": "cb62a6ea-7885-4a22-b2c5-4d465a088dc2",
   "metadata": {},
   "outputs": [],
   "source": []
  },
  {
   "cell_type": "code",
   "execution_count": null,
   "id": "1a6a9dcd-b8a8-43fd-836a-aa36fdd34b5f",
   "metadata": {},
   "outputs": [],
   "source": []
  },
  {
   "cell_type": "code",
   "execution_count": null,
   "id": "81116842-1641-4632-abb0-77232739ba5d",
   "metadata": {},
   "outputs": [],
   "source": []
  },
  {
   "cell_type": "code",
   "execution_count": null,
   "id": "3a362222-e949-4c1e-b86c-35fe851c26d0",
   "metadata": {},
   "outputs": [],
   "source": []
  }
 ],
 "metadata": {
  "kernelspec": {
   "display_name": "Python [conda env:base] *",
   "language": "python",
   "name": "conda-base-py"
  },
  "language_info": {
   "codemirror_mode": {
    "name": "ipython",
    "version": 3
   },
   "file_extension": ".py",
   "mimetype": "text/x-python",
   "name": "python",
   "nbconvert_exporter": "python",
   "pygments_lexer": "ipython3",
   "version": "3.12.7"
  }
 },
 "nbformat": 4,
 "nbformat_minor": 5
}
